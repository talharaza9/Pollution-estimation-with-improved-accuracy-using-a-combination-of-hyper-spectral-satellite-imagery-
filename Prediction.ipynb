{
 "cells": [
  {
   "cell_type": "markdown",
   "id": "798f4b23-07f5-44b7-bfae-fa0fceb822b0",
   "metadata": {},
   "source": [
    "# Pollution estimation with improved accuracy using a combination of hyper-spectral satellite imagery data and maps"
   ]
  },
  {
   "cell_type": "markdown",
   "id": "deaa0fd4-3217-45af-9192-a6ff035a2d3b",
   "metadata": {},
   "source": [
    "## Problem Statement"
   ]
  },
  {
   "cell_type": "markdown",
   "id": "92ce2142-055f-46bc-8e83-42ea0641af49",
   "metadata": {},
   "source": [
    "#### Using satellite imagery along with the map data from the open street map to find the regression estimate of pollution (Nitrogen Dioxide) in the region for specific time instances"
   ]
  },
  {
   "cell_type": "markdown",
   "id": "3e2b9d7a-6bd8-4b96-8864-2aa270d26f97",
   "metadata": {},
   "source": [
    "### Approcah"
   ]
  },
  {
   "cell_type": "code",
   "execution_count": null,
   "id": "9308765c-c4a6-49c5-9eb4-9f84c451c0d2",
   "metadata": {},
   "outputs": [],
   "source": [
    "### "
   ]
  },
  {
   "cell_type": "code",
   "execution_count": 230,
   "id": "b4b25a49-6c2d-4ce2-a70c-6876c2adeb1a",
   "metadata": {},
   "outputs": [],
   "source": [
    "## model 2 feature extraction\n",
    "import numpy as np\n",
    "import geopy.distance\n"
   ]
  },
  {
   "cell_type": "code",
   "execution_count": null,
   "id": "b70e71a3-fef1-4231-9c91-c09b561ead71",
   "metadata": {},
   "outputs": [],
   "source": [
    "def extract(coordinates):\n",
    "    latitude_1=50.0\n",
    "    latitude_2=52\n",
    "    longitude_1=-1\n",
    "    longitude_2=2\n",
    "    lat=float(coordinates.split(',')[0])\n",
    "    lon=float(coordinates.split(',')[1])\n",
    "    if lat > latitude_1 and lat < latitude_2 and lon > longitude_1 and lon < longitude_2:\n",
    "        return str(lat)+','+str(lon)\n",
    "    else:\n",
    "        return 0\n",
    "    \n",
    "\n",
    "def get_span_grid(latitude,longitude):\n",
    "    distance_between={}\n",
    "    a=latitude\n",
    "    b=longitude\n",
    "    for i in coord_local.columns:\n",
    "        for j in coord_local.index:\n",
    "            coords_1=(a,b)\n",
    "            try:\n",
    "                coords_2=(float(coord_local[i][j].split(',')[0]),float(coord_local[i][j].split(',')[1]))\n",
    "                dist_calc=geopy.distance.distance(coords_1, coords_2).km\n",
    "                #print(dist_calc)\n",
    "                distance_between[float(dist_calc)]=(i,j)\n",
    "            except AttributeError:\n",
    "                continue\n",
    "    \n",
    "    grid,span=distance_between[min(distance_between.keys())]\n",
    "    return grid,span\n",
    "\n",
    "def get_hyper_Spectral_features(lat,lon):\n",
    "    ground_pixel,span_line=get_span_grid(lat,lon)\n",
    "    feature1=air_mass_factor_troposphere.iloc[span_line][ground_pixel]\n",
    "    feature2=cloud_radiance_fraction_nitrogendioxide_window.iloc[span_line][ground_pixel]\n",
    "    feature3=nitrogendioxide_tropospheric_column.iloc[span_line][ground_pixel]\n",
    "    feature4=water_liquid_slant_column_density.iloc[span_line][ground_pixel]\n",
    "    hyper_spectral_features=[feature1,feature2,feature3,feature4]\n",
    "    return hyper_spectral_features"
   ]
  },
  {
   "cell_type": "code",
   "execution_count": 228,
   "id": "e4d86c85-625e-4867-a216-791b149ad3f4",
   "metadata": {},
   "outputs": [],
   "source": [
    "coord=pd.read_csv('data1/geographical_data/coord.csv')\n",
    "\n",
    "coord_local=coord.copy()\n",
    "for i in coord_local.columns.tolist():\n",
    "    coord_local[i]=coord_local[i].apply(lambda x: extract(x))\n",
    "    \n",
    "coord_local=coord_local.loc[~(coord_local==0).all(axis=1)]\n",
    "coord_local=coord_local.loc[~(coord_local==0).all(axis=1)]\n",
    "\n",
    "list_drop=[]\n",
    "\n",
    "for i in coord_local.columns:\n",
    "    #coord_local[i]=coord_local[i].apply(lambda x:float(x))\n",
    "    try:\n",
    "        coord_local[i]=coord_local[i].apply(lambda x:float(x))\n",
    "        \n",
    "    except ValueError:\n",
    "        continue\n",
    "    try:\n",
    "        if coord_local[i].sum()==0:\n",
    "            list_drop.append(i)\n",
    "    except TypeError:\n",
    "        continue\n",
    "coord_local=coord_local.drop(list_drop, axis=1)\n",
    "\n",
    "air_mass_factor_troposphere=pd.read_csv('data1/features/air_mass_factor_troposphere.csv')\n",
    "cloud_radiance_fraction_nitrogendioxide_window=pd.read_csv('data1/features/cloud_radiance_fraction_nitrogendioxide_window.csv')\n",
    "nitrogendioxide_tropospheric_column=pd.read_csv('data1/features/nitrogendioxide_tropospheric_column.csv')\n",
    "water_liquid_slant_column_density=pd.read_csv('data1/features/water_liquid_slant_column_density.csv')\n"
   ]
  },
  {
   "cell_type": "markdown",
   "id": "8aa27c8d-8e8d-49b9-9400-2aa7a149017a",
   "metadata": {},
   "source": [
    "# Training dataset"
   ]
  },
  {
   "cell_type": "code",
   "execution_count": 19,
   "id": "06e0af93-ea02-4f73-a2a0-802c7ad39367",
   "metadata": {},
   "outputs": [
    {
     "name": "stdout",
     "output_type": "stream",
     "text": [
      "Lowered zoom level to keep map size reasonable. (z = 11)\n"
     ]
    }
   ],
   "source": [
    "import smopy\n",
    "import cv2\n",
    "lat=51.20\n",
    "lon=-0.25\n",
    "LatMin=lat-0.1\n",
    "LatMax=lat+0.1\n",
    "LngMin=lon-0.1\n",
    "LngMax=lon+0.1\n",
    "\n",
    "#Map with labels\n",
    "map = smopy.Map((LatMin,LngMin, LatMax,LngMax))\n",
    "#map.save_png('London.png')\n",
    "#map.show_ipython()\n",
    "gray=0\n",
    "#Map without labels (if needed)\n",
    "#map = smopy.Map((LatMin,LngMin, LatMax,LngMax), tileserver=\"https://tiles.wmflabs.org/osm-no-labels/{z}/{x}/{y}.png\")#,tilesize=512,maxtiles=9)\n",
    "name=str(lat)+'_'+str(lon)+'.png'\n",
    "map.save_png(name)\n",
    "#map.show_ipython()\n",
    "#type(map)\n",
    "img = cv2.imread(name)\n",
    "gray = cv2.cvtColor(img, cv2.COLOR_BGR2GRAY)\n",
    "scale_percent = 8 # percent of original size\n",
    "width = int(img.shape[1] * scale_percent / 100)\n",
    "height = int(img.shape[0] * scale_percent / 100)\n",
    "dim = (width, height)\n",
    "  \n",
    "# resize image\n",
    "resized = cv2.resize(img, dim, interpolation = cv2.INTER_AREA)\n",
    "gray = cv2.cvtColor(resized, cv2.COLOR_BGR2GRAY)"
   ]
  },
  {
   "cell_type": "code",
   "execution_count": null,
   "id": "a3c6d39a-fff5-46b4-83c9-558ff2a1de5c",
   "metadata": {},
   "outputs": [],
   "source": []
  },
  {
   "cell_type": "code",
   "execution_count": 22,
   "id": "0206eb93-d4d6-4082-91cc-dd2b88a14ce9",
   "metadata": {},
   "outputs": [
    {
     "data": {
      "text/plain": [
       "(60, 60, 3)"
      ]
     },
     "execution_count": 22,
     "metadata": {},
     "output_type": "execute_result"
    }
   ],
   "source": [
    "resized_image = cv2.resize(img, (60, 60)) \n",
    "resized_image.shape\n",
    "map = smopy.Map((LatMin,LngMin, LatMax,LngMax))\n",
    "name=str(lat)+'_'+str(lon)+'.png'\n",
    "map.save_png(name)\n",
    "img = cv2.imread(name)"
   ]
  },
  {
   "cell_type": "code",
   "execution_count": 26,
   "id": "ff620df1-ccce-46e1-99bb-69dfe589e714",
   "metadata": {},
   "outputs": [],
   "source": [
    "import numpy as np\n",
    "import tensorflow as tf\n",
    "from tensorflow import keras\n",
    "from tensorflow.keras import layers"
   ]
  },
  {
   "cell_type": "code",
   "execution_count": 31,
   "id": "2e87448a-ff2a-4707-b22d-809f5225541f",
   "metadata": {},
   "outputs": [],
   "source": [
    "\n",
    "from tensorflow.keras import datasets, layers, models\n",
    "model1 = models.Sequential()\n",
    "model1.add(layers.Conv2D(32, (3, 3), activation='relu', input_shape=(60, 60, 3)))\n",
    "model1.add(layers.MaxPooling2D((2, 2)))\n",
    "model1.add(layers.Conv2D(64, (3, 3), activation='relu'))\n",
    "model1.add(layers.MaxPooling2D((2, 2)))\n",
    "model1.add(layers.Conv2D(64, (3, 3), activation='relu'))\n",
    "model1.add(layers.Flatten())\n",
    "model1.add(layers.Dense(64, activation='relu'))\n"
   ]
  },
  {
   "cell_type": "code",
   "execution_count": 39,
   "id": "937c6348-4263-49e9-bf90-53502c53cf01",
   "metadata": {},
   "outputs": [],
   "source": [
    "#model1\n",
    "from tensorflow.keras.layers import Dense, Dropout, Input,concatenate\n",
    "from tensorflow.keras.layers import Conv2D, MaxPooling2D, Flatten\n",
    "from tensorflow.keras.models import Model\n",
    "input1=Input(shape=(60, 60, 3))\n",
    "y1=Conv2D(32, (3, 3), activation='relu', input_shape=(60, 60, 3))(input1)\n",
    "y2= MaxPooling2D()(y1)\n",
    "y3=Conv2D(64, (3, 3), activation='relu')(y2)\n",
    "y4= Flatten()(y3)\n",
    "output1=Dense(10, activation=\"relu\")(y4)"
   ]
  },
  {
   "cell_type": "code",
   "execution_count": 37,
   "id": "e64e81a2-e428-4229-9721-c6edec1fcb4d",
   "metadata": {},
   "outputs": [],
   "source": [
    "#model2\n",
    "input2=Input(shape=(168,))\n",
    "z1=Dense(5, activation=\"relu\")(input2)\n",
    "#model3\n",
    "input3=Input(shape=(4,))\n",
    "x=Dense(1, activation=\"relu\")(input3)"
   ]
  },
  {
   "cell_type": "code",
   "execution_count": 42,
   "id": "a0d9a772-0a3e-42d2-bc26-1871bf893b30",
   "metadata": {},
   "outputs": [],
   "source": [
    "merge = concatenate([output1, z1,x])\n",
    "out=Dense(1, activation=\"relu\")(merge)"
   ]
  },
  {
   "cell_type": "code",
   "execution_count": null,
   "id": "9c19abf1-66e0-40cb-9719-9951b5470aa2",
   "metadata": {},
   "outputs": [],
   "source": [
    "model=Model(inputs=[input1,input2,input3],outputs=[out])\n",
    "model.compile(optimizer='adam', loss='mean_absolute_error')"
   ]
  },
  {
   "cell_type": "code",
   "execution_count": 44,
   "id": "5271132b-c71b-47de-be7c-4be3575359bd",
   "metadata": {},
   "outputs": [],
   "source": [
    "#(X_train, y_train), (X_test, y_test) = tf.keras.datasets.cifar10.load_data()\n"
   ]
  },
  {
   "cell_type": "code",
   "execution_count": 30,
   "id": "2dd4385e-1749-4365-b7f7-b9094494ec18",
   "metadata": {},
   "outputs": [
    {
     "name": "stdout",
     "output_type": "stream",
     "text": [
      "WARNING:tensorflow:\n",
      "The following Variables were used a Lambda layer's call (tf.nn.convolution_2), but\n",
      "are not present in its tracked objects:\n",
      "  <tf.Variable 'conv2d_6/kernel:0' shape=(3, 3, 3, 32) dtype=float32>\n",
      "It is possible that this is intended behavior, but it is more likely\n",
      "an omission. This is a strong indication that this layer should be\n",
      "formulated as a subclassed Layer rather than a Lambda layer.\n",
      "WARNING:tensorflow:\n",
      "The following Variables were used a Lambda layer's call (tf.nn.bias_add_2), but\n",
      "are not present in its tracked objects:\n",
      "  <tf.Variable 'conv2d_6/bias:0' shape=(32,) dtype=float32>\n",
      "It is possible that this is intended behavior, but it is more likely\n",
      "an omission. This is a strong indication that this layer should be\n",
      "formulated as a subclassed Layer rather than a Lambda layer.\n"
     ]
    },
    {
     "ename": "TypeError",
     "evalue": "Inputs to a layer should be tensors. Got: <tensorflow.python.keras.layers.convolutional.Conv2D object at 0x0000027CFFB5DE50>",
     "output_type": "error",
     "traceback": [
      "\u001b[1;31m---------------------------------------------------------------------------\u001b[0m",
      "\u001b[1;31mTypeError\u001b[0m                                 Traceback (most recent call last)",
      "\u001b[1;32m<ipython-input-30-422001ed6f95>\u001b[0m in \u001b[0;36m<module>\u001b[1;34m\u001b[0m\n\u001b[0;32m      3\u001b[0m \u001b[0my2\u001b[0m\u001b[1;33m=\u001b[0m\u001b[0mlayers\u001b[0m\u001b[1;33m.\u001b[0m\u001b[0mMaxPooling2D\u001b[0m\u001b[1;33m(\u001b[0m\u001b[1;33m(\u001b[0m\u001b[1;36m2\u001b[0m\u001b[1;33m,\u001b[0m \u001b[1;36m2\u001b[0m\u001b[1;33m)\u001b[0m\u001b[1;33m)\u001b[0m\u001b[1;33m(\u001b[0m\u001b[0my1\u001b[0m\u001b[1;33m)\u001b[0m\u001b[1;33m\u001b[0m\u001b[1;33m\u001b[0m\u001b[0m\n\u001b[0;32m      4\u001b[0m \u001b[0my3\u001b[0m\u001b[1;33m=\u001b[0m\u001b[0mlayers\u001b[0m\u001b[1;33m.\u001b[0m\u001b[0mConv2D\u001b[0m\u001b[1;33m(\u001b[0m\u001b[1;36m64\u001b[0m\u001b[1;33m,\u001b[0m \u001b[1;33m(\u001b[0m\u001b[1;36m3\u001b[0m\u001b[1;33m,\u001b[0m \u001b[1;36m3\u001b[0m\u001b[1;33m)\u001b[0m\u001b[1;33m,\u001b[0m \u001b[0mactivation\u001b[0m\u001b[1;33m=\u001b[0m\u001b[1;34m'relu'\u001b[0m\u001b[1;33m)\u001b[0m\u001b[1;33m\u001b[0m\u001b[1;33m\u001b[0m\u001b[0m\n\u001b[1;32m----> 5\u001b[1;33m \u001b[0my4\u001b[0m\u001b[1;33m=\u001b[0m\u001b[0mlayers\u001b[0m\u001b[1;33m.\u001b[0m\u001b[0mFlatten\u001b[0m\u001b[1;33m(\u001b[0m\u001b[1;33m)\u001b[0m\u001b[1;33m(\u001b[0m\u001b[0my3\u001b[0m\u001b[1;33m)\u001b[0m\u001b[1;33m\u001b[0m\u001b[1;33m\u001b[0m\u001b[0m\n\u001b[0m\u001b[0;32m      6\u001b[0m \u001b[0my5\u001b[0m\u001b[1;33m=\u001b[0m\u001b[0mlayers\u001b[0m\u001b[1;33m.\u001b[0m\u001b[0mDense\u001b[0m\u001b[1;33m(\u001b[0m\u001b[1;36m64\u001b[0m\u001b[1;33m,\u001b[0m \u001b[0mactivation\u001b[0m\u001b[1;33m=\u001b[0m\u001b[1;34m'relu'\u001b[0m\u001b[1;33m)\u001b[0m\u001b[1;33m(\u001b[0m\u001b[0my4\u001b[0m\u001b[1;33m)\u001b[0m\u001b[1;33m\u001b[0m\u001b[1;33m\u001b[0m\u001b[0m\n\u001b[0;32m      7\u001b[0m \u001b[1;33m\u001b[0m\u001b[0m\n",
      "\u001b[1;32m~\\AppData\\Roaming\\Python\\Python38\\site-packages\\tensorflow\\python\\keras\\engine\\base_layer.py\u001b[0m in \u001b[0;36m__call__\u001b[1;34m(self, *args, **kwargs)\u001b[0m\n\u001b[0;32m   1011\u001b[0m         training=training_mode):\n\u001b[0;32m   1012\u001b[0m \u001b[1;33m\u001b[0m\u001b[0m\n\u001b[1;32m-> 1013\u001b[1;33m       \u001b[0minput_spec\u001b[0m\u001b[1;33m.\u001b[0m\u001b[0massert_input_compatibility\u001b[0m\u001b[1;33m(\u001b[0m\u001b[0mself\u001b[0m\u001b[1;33m.\u001b[0m\u001b[0minput_spec\u001b[0m\u001b[1;33m,\u001b[0m \u001b[0minputs\u001b[0m\u001b[1;33m,\u001b[0m \u001b[0mself\u001b[0m\u001b[1;33m.\u001b[0m\u001b[0mname\u001b[0m\u001b[1;33m)\u001b[0m\u001b[1;33m\u001b[0m\u001b[1;33m\u001b[0m\u001b[0m\n\u001b[0m\u001b[0;32m   1014\u001b[0m       \u001b[1;32mif\u001b[0m \u001b[0meager\u001b[0m\u001b[1;33m:\u001b[0m\u001b[1;33m\u001b[0m\u001b[1;33m\u001b[0m\u001b[0m\n\u001b[0;32m   1015\u001b[0m         \u001b[0mcall_fn\u001b[0m \u001b[1;33m=\u001b[0m \u001b[0mself\u001b[0m\u001b[1;33m.\u001b[0m\u001b[0mcall\u001b[0m\u001b[1;33m\u001b[0m\u001b[1;33m\u001b[0m\u001b[0m\n",
      "\u001b[1;32m~\\AppData\\Roaming\\Python\\Python38\\site-packages\\tensorflow\\python\\keras\\engine\\input_spec.py\u001b[0m in \u001b[0;36massert_input_compatibility\u001b[1;34m(input_spec, inputs, layer_name)\u001b[0m\n\u001b[0;32m    195\u001b[0m     \u001b[1;31m# have a `shape` attribute.\u001b[0m\u001b[1;33m\u001b[0m\u001b[1;33m\u001b[0m\u001b[1;33m\u001b[0m\u001b[0m\n\u001b[0;32m    196\u001b[0m     \u001b[1;32mif\u001b[0m \u001b[1;32mnot\u001b[0m \u001b[0mhasattr\u001b[0m\u001b[1;33m(\u001b[0m\u001b[0mx\u001b[0m\u001b[1;33m,\u001b[0m \u001b[1;34m'shape'\u001b[0m\u001b[1;33m)\u001b[0m\u001b[1;33m:\u001b[0m\u001b[1;33m\u001b[0m\u001b[1;33m\u001b[0m\u001b[0m\n\u001b[1;32m--> 197\u001b[1;33m       \u001b[1;32mraise\u001b[0m \u001b[0mTypeError\u001b[0m\u001b[1;33m(\u001b[0m\u001b[1;34m'Inputs to a layer should be tensors. Got: %s'\u001b[0m \u001b[1;33m%\u001b[0m \u001b[1;33m(\u001b[0m\u001b[0mx\u001b[0m\u001b[1;33m,\u001b[0m\u001b[1;33m)\u001b[0m\u001b[1;33m)\u001b[0m\u001b[1;33m\u001b[0m\u001b[1;33m\u001b[0m\u001b[0m\n\u001b[0m\u001b[0;32m    198\u001b[0m \u001b[1;33m\u001b[0m\u001b[0m\n\u001b[0;32m    199\u001b[0m   \u001b[1;32mif\u001b[0m \u001b[0mlen\u001b[0m\u001b[1;33m(\u001b[0m\u001b[0minputs\u001b[0m\u001b[1;33m)\u001b[0m \u001b[1;33m!=\u001b[0m \u001b[0mlen\u001b[0m\u001b[1;33m(\u001b[0m\u001b[0minput_spec\u001b[0m\u001b[1;33m)\u001b[0m\u001b[1;33m:\u001b[0m\u001b[1;33m\u001b[0m\u001b[1;33m\u001b[0m\u001b[0m\n",
      "\u001b[1;31mTypeError\u001b[0m: Inputs to a layer should be tensors. Got: <tensorflow.python.keras.layers.convolutional.Conv2D object at 0x0000027CFFB5DE50>"
     ]
    }
   ],
   "source": [
    "img_inputs = tf.keras.Input(shape=(32, 32, 3))\n",
    "y1=Conv2D(32, (3, 3), activation='relu', input_shape=(60, 60, 3))(img_inputs)\n",
    "y2=layers.MaxPooling2D((2, 2))(y1)\n",
    "y3=layers.Conv2D(64, (3, 3), activation='relu')\n",
    "y4=layers.Flatten()(y3)\n",
    "y5=layers.Dense(64, activation='relu')(y4)\n",
    "\n",
    "inputs_timeseries = keras.Input(shape=(168,))\n",
    "y_dense1 = layers.Dense(5, activation=\"relu\")\n",
    "\n",
    "inputs_hyper = keras.Input(shape=(4,))\n",
    "y_dense2 = layers.Dense(1, activation=\"relu\")\n",
    "\n",
    "merged = Concatenate([y5, y_dense1,y_dense2])"
   ]
  },
  {
   "cell_type": "code",
   "execution_count": null,
   "id": "86e27a89-e78b-4665-8390-d9c9e8edc7c0",
   "metadata": {},
   "outputs": [],
   "source": []
  },
  {
   "cell_type": "code",
   "execution_count": 18,
   "id": "88e28a3c-4916-4a08-b0a2-de5a97e28e5f",
   "metadata": {},
   "outputs": [],
   "source": [
    "cv2.imshow('rrt ',gray)\n",
    "cv2.waitKey(0)\n",
    "cv2.destroyAllWindows()"
   ]
  },
  {
   "cell_type": "code",
   "execution_count": 10,
   "id": "0748211d-0ee4-47c6-9bc1-ad8a6a7be9ab",
   "metadata": {},
   "outputs": [
    {
     "data": {
      "text/plain": [
       "(230, 230)"
      ]
     },
     "execution_count": 10,
     "metadata": {},
     "output_type": "execute_result"
    }
   ],
   "source": [
    "model = models.Sequential()\n",
    "model.add(layers.Conv2D(32, (3, 3), activation='relu', input_shape=(32, 32, 3)))\n",
    "model.add(layers.MaxPooling2D((2, 2)))\n",
    "model.add(layers.Conv2D(64, (3, 3), activation='relu'))\n",
    "model.add(layers.MaxPooling2D((2, 2)))\n",
    "model.add(layers.Conv2D(64, (3, 3), activation='relu'))"
   ]
  },
  {
   "cell_type": "code",
   "execution_count": 13,
   "id": "98f5ec08-7e40-41b2-a207-444ff77b600f",
   "metadata": {},
   "outputs": [
    {
     "data": {
      "text/plain": [
       "(52900,)"
      ]
     },
     "execution_count": 13,
     "metadata": {},
     "output_type": "execute_result"
    }
   ],
   "source": [
    "gray\n",
    "import numpy as np\n",
    "features = np.reshape(gray, (gray.shape[0]*gray.shape[1])) \n",
    "features.shape"
   ]
  },
  {
   "cell_type": "code",
   "execution_count": 4,
   "id": "7e0e69d7-04c4-4ca6-a9dd-69c7656f56a2",
   "metadata": {},
   "outputs": [
    {
     "ename": "NameError",
     "evalue": "name 'cv2' is not defined",
     "output_type": "error",
     "traceback": [
      "\u001b[1;31m---------------------------------------------------------------------------\u001b[0m",
      "\u001b[1;31mNameError\u001b[0m                                 Traceback (most recent call last)",
      "\u001b[1;32m<ipython-input-4-31adf1153244>\u001b[0m in \u001b[0;36m<module>\u001b[1;34m\u001b[0m\n\u001b[1;32m----> 1\u001b[1;33m \u001b[0mimg\u001b[0m \u001b[1;33m=\u001b[0m \u001b[0mcv2\u001b[0m\u001b[1;33m.\u001b[0m\u001b[0mimread\u001b[0m\u001b[1;33m(\u001b[0m\u001b[0mname\u001b[0m\u001b[1;33m)\u001b[0m\u001b[1;33m\u001b[0m\u001b[1;33m\u001b[0m\u001b[0m\n\u001b[0m\u001b[0;32m      2\u001b[0m \u001b[0mtype\u001b[0m\u001b[1;33m(\u001b[0m\u001b[0mimg\u001b[0m\u001b[1;33m)\u001b[0m\u001b[1;33m\u001b[0m\u001b[1;33m\u001b[0m\u001b[0m\n\u001b[0;32m      3\u001b[0m \u001b[0mgray\u001b[0m \u001b[1;33m=\u001b[0m \u001b[0mcv2\u001b[0m\u001b[1;33m.\u001b[0m\u001b[0mcvtColor\u001b[0m\u001b[1;33m(\u001b[0m\u001b[0mimg\u001b[0m\u001b[1;33m,\u001b[0m \u001b[0mcv2\u001b[0m\u001b[1;33m.\u001b[0m\u001b[0mCOLOR_BGR2GRAY\u001b[0m\u001b[1;33m)\u001b[0m\u001b[1;33m\u001b[0m\u001b[1;33m\u001b[0m\u001b[0m\n\u001b[0;32m      4\u001b[0m \u001b[0mscale_percent\u001b[0m \u001b[1;33m=\u001b[0m \u001b[1;36m30\u001b[0m \u001b[1;31m# percent of original size\u001b[0m\u001b[1;33m\u001b[0m\u001b[1;33m\u001b[0m\u001b[0m\n\u001b[0;32m      5\u001b[0m \u001b[0mwidth\u001b[0m \u001b[1;33m=\u001b[0m \u001b[0mint\u001b[0m\u001b[1;33m(\u001b[0m\u001b[0mimg\u001b[0m\u001b[1;33m.\u001b[0m\u001b[0mshape\u001b[0m\u001b[1;33m[\u001b[0m\u001b[1;36m1\u001b[0m\u001b[1;33m]\u001b[0m \u001b[1;33m*\u001b[0m \u001b[0mscale_percent\u001b[0m \u001b[1;33m/\u001b[0m \u001b[1;36m100\u001b[0m\u001b[1;33m)\u001b[0m\u001b[1;33m\u001b[0m\u001b[1;33m\u001b[0m\u001b[0m\n",
      "\u001b[1;31mNameError\u001b[0m: name 'cv2' is not defined"
     ]
    }
   ],
   "source": [
    "img = cv2.imread(name)\n",
    "type(img)\n",
    "gray = cv2.cvtColor(img, cv2.COLOR_BGR2GRAY)\n",
    "scale_percent = 30 # percent of original size\n",
    "width = int(img.shape[1] * scale_percent / 100)\n",
    "height = int(img.shape[0] * scale_percent / 100)\n",
    "dim = (width, height)\n",
    "  \n",
    "# resize image\n",
    "resized = cv2.resize(img, dim, interpolation = cv2.INTER_AREA)\n",
    "gray = cv2.cvtColor(resized, cv2.COLOR_BGR2GRAY)"
   ]
  },
  {
   "cell_type": "code",
   "execution_count": 14,
   "id": "ea801f80-e7d2-4ea4-9b47-35334afe9d70",
   "metadata": {},
   "outputs": [],
   "source": [
    "import keras,os\n",
    "from keras.models import Sequential\n",
    "from keras.layers import Dense, Conv2D, MaxPool2D , Flatten\n",
    "from keras.preprocessing.image import ImageDataGenerator\n",
    "import numpy as np"
   ]
  },
  {
   "cell_type": "code",
   "execution_count": 15,
   "id": "58744de6-350d-451f-b515-84ec03a52365",
   "metadata": {},
   "outputs": [],
   "source": [
    "model = Sequential()\n",
    "model.add(Conv2D(input_shape=(224,224,3),filters=64,kernel_size=(3,3),padding=\"same\", activation=\"relu\"))\n",
    "model.add(Conv2D(filters=64,kernel_size=(3,3),padding=\"same\", activation=\"relu\"))\n",
    "model.add(MaxPool2D(pool_size=(2,2),strides=(2,2)))\n",
    "model.add(Conv2D(filters=128, kernel_size=(3,3), padding=\"same\", activation=\"relu\"))\n",
    "model.add(Conv2D(filters=128, kernel_size=(3,3), padding=\"same\", activation=\"relu\"))\n",
    "model.add(MaxPool2D(pool_size=(2,2),strides=(2,2)))"
   ]
  },
  {
   "cell_type": "code",
   "execution_count": 450,
   "id": "df767b21-1307-42d3-8b61-ff1c693c55ba",
   "metadata": {},
   "outputs": [],
   "source": [
    "scale_percent = 50 # percent of original size\n",
    "width = int(img.shape[1] * scale_percent / 100)\n",
    "height = int(img.shape[0] * scale_percent / 100)\n",
    "dim = (width, height)\n",
    "  \n",
    "# resize image\n",
    "resized = cv2.resize(img, dim, interpolation = cv2.INTER_AREA)"
   ]
  },
  {
   "cell_type": "code",
   "execution_count": 451,
   "id": "0a7e75df-3f98-4d18-9298-d29057f6a05f",
   "metadata": {},
   "outputs": [
    {
     "data": {
      "text/plain": [
       "(384, 384, 3)"
      ]
     },
     "execution_count": 451,
     "metadata": {},
     "output_type": "execute_result"
    }
   ],
   "source": [
    "resized.shape"
   ]
  },
  {
   "cell_type": "code",
   "execution_count": 454,
   "id": "2b29f2b4-cc30-49b8-a61c-d51c8b2734e2",
   "metadata": {},
   "outputs": [],
   "source": [
    "gray = cv2.cvtColor(resized, cv2.COLOR_BGR2GRAY)"
   ]
  },
  {
   "cell_type": "code",
   "execution_count": 1,
   "id": "263f71c0-7f3c-43b6-b5e8-e66647576ac2",
   "metadata": {},
   "outputs": [
    {
     "ename": "NameError",
     "evalue": "name 'gray' is not defined",
     "output_type": "error",
     "traceback": [
      "\u001b[1;31m---------------------------------------------------------------------------\u001b[0m",
      "\u001b[1;31mNameError\u001b[0m                                 Traceback (most recent call last)",
      "\u001b[1;32m<ipython-input-1-ff735f1aa447>\u001b[0m in \u001b[0;36m<module>\u001b[1;34m\u001b[0m\n\u001b[1;32m----> 1\u001b[1;33m \u001b[0mgray\u001b[0m\u001b[1;33m.\u001b[0m\u001b[0mshape\u001b[0m\u001b[1;33m\u001b[0m\u001b[1;33m\u001b[0m\u001b[0m\n\u001b[0m",
      "\u001b[1;31mNameError\u001b[0m: name 'gray' is not defined"
     ]
    }
   ],
   "source": [
    "gray.shape"
   ]
  },
  {
   "cell_type": "code",
   "execution_count": null,
   "id": "63ccd1e3-9231-4a7d-98e9-ee424c85c299",
   "metadata": {},
   "outputs": [],
   "source": [
    "cv2.imshow('rrt ',gray)\n",
    "#cv2.waitKey(0)"
   ]
  },
  {
   "cell_type": "code",
   "execution_count": 430,
   "id": "40500cb5-c649-48ca-8287-082dbb40050e",
   "metadata": {},
   "outputs": [
    {
     "data": {
      "image/png": "[encoded data removed]"
     },
     "metadata": {},
     "output_type": "display_data"
    }
   ],
   "source": [
    "x, y = map.to_pixels(51.5072, -0.1276)\n",
    "#ax = map.show_mpl(figsize=(8, 8))\n",
    "#ax.plot(x, y, 'or', ms=10, mew=2)\n",
    "t=(map.show_ipython()"
   ]
  },
  {
   "cell_type": "code",
   "execution_count": 432,
   "id": "125d2678-0387-43a4-bdd7-0743c8e52927",
   "metadata": {},
   "outputs": [
    {
     "data": {
      "text/plain": [
       "array(None, dtype=object)"
      ]
     },
     "execution_count": 432,
     "metadata": {},
     "output_type": "execute_result"
    }
   ],
   "source": [
    "t"
   ]
  },
  {
   "cell_type": "markdown",
   "id": "d0a83f6c-dfa9-4a86-bc02-3db580b9a7b9",
   "metadata": {},
   "source": [
    "# Break"
   ]
  },
  {
   "cell_type": "code",
   "execution_count": null,
   "id": "96a71757-1ef3-41de-bb76-c911af729c77",
   "metadata": {},
   "outputs": [],
   "source": [
    "\n",
    "\n",
    "for i in coord.columns.tolist():\n",
    "    latitude[i]=latitude[i].apply(lambda x: 0 if x < latitude_1 else x )\n",
    "    latitude[i]=latitude[i].apply(lambda x: 0 if x > latitude_2 else x )\n",
    "    #latitude[i]=latitude[i].apply(lambda x: x if x > latitude_1 and x < latitude_2  else 0 )"
   ]
  },
  {
   "cell_type": "code",
   "execution_count": 159,
   "id": "71ae137f-d2ac-44e8-b61e-49c0df383277",
   "metadata": {},
   "outputs": [],
   "source": [
    "for i in longitude.columns.tolist():\n",
    "    longitude[i]=longitude[i].apply(lambda x: 0 if x < longitude_1 else x )\n",
    "    longitude[i]=longitude[i].apply(lambda x: 0 if x > longitude_2 else x )\n",
    "    "
   ]
  },
  {
   "cell_type": "code",
   "execution_count": 85,
   "id": "6c483b5e-3298-4f81-a5f5-b76c29316c2d",
   "metadata": {},
   "outputs": [],
   "source": [
    "spanline=[]\n",
    "grid=[]\n",
    "lat=[]\n",
    "lon=[]\n",
    "lat_lon=[]\n",
    "for i in latitude.columns:\n",
    "    for j in list(latitude.index):\n",
    "        if latitude.iloc[j][i] != 0:\n",
    "            m=m+1\n",
    "            lat.append(latitude.iloc[j][i])\n",
    "            lon.append(longitude.iloc[j][i])\n",
    "            lat_lon.append(str(latitude.iloc[j][i])+','+longitude.iloc[j][i])\n",
    "        "
   ]
  },
  {
   "cell_type": "code",
   "execution_count": 86,
   "id": "4342c116-4167-409f-a9fe-082edfed9480",
   "metadata": {},
   "outputs": [],
   "source": [
    "search_df=pd.DataFrame(list(zip(spanline,grid,lat,lon,lat_lon)),columns=['spanline', 'grid', 'lat','lon','lat_lon'])"
   ]
  },
  {
   "cell_type": "code",
   "execution_count": 178,
   "id": "bdc015f2-f652-4f92-8b30-cb95711305d4",
   "metadata": {},
   "outputs": [],
   "source": [
    "latitude_trial=latitude.reset_index()"
   ]
  },
  {
   "cell_type": "code",
   "execution_count": 180,
   "id": "ae583af0-6be9-47dc-b7ad-c81e3b49eac2",
   "metadata": {},
   "outputs": [],
   "source": [
    "latitude_trial=latitude.copy()"
   ]
  },
  {
   "cell_type": "code",
   "execution_count": 181,
   "id": "b07d159f-8e2d-49ac-a816-46e2e52c3e61",
   "metadata": {},
   "outputs": [
    {
     "data": {
      "text/html": [
       "<div>\n",
       "<style scoped>\n",
       "    .dataframe tbody tr th:only-of-type {\n",
       "        vertical-align: middle;\n",
       "    }\n",
       "\n",
       "    .dataframe tbody tr th {\n",
       "        vertical-align: top;\n",
       "    }\n",
       "\n",
       "    .dataframe thead th {\n",
       "        text-align: right;\n",
       "    }\n",
       "</style>\n",
       "<table border=\"1\" class=\"dataframe\">\n",
       "  <thead>\n",
       "    <tr style=\"text-align: right;\">\n",
       "      <th></th>\n",
       "      <th>1</th>\n",
       "      <th>2</th>\n",
       "      <th>3</th>\n",
       "      <th>4</th>\n",
       "      <th>5</th>\n",
       "      <th>6</th>\n",
       "      <th>7</th>\n",
       "      <th>8</th>\n",
       "      <th>9</th>\n",
       "      <th>10</th>\n",
       "      <th>...</th>\n",
       "      <th>441</th>\n",
       "      <th>442</th>\n",
       "      <th>443</th>\n",
       "      <th>444</th>\n",
       "      <th>445</th>\n",
       "      <th>446</th>\n",
       "      <th>447</th>\n",
       "      <th>448</th>\n",
       "      <th>449</th>\n",
       "      <th>450</th>\n",
       "    </tr>\n",
       "  </thead>\n",
       "  <tbody>\n",
       "    <tr>\n",
       "      <th>0</th>\n",
       "      <td>0.0</td>\n",
       "      <td>0.0</td>\n",
       "      <td>0.0</td>\n",
       "      <td>0.0</td>\n",
       "      <td>0.0</td>\n",
       "      <td>0.0</td>\n",
       "      <td>0.0</td>\n",
       "      <td>0.0</td>\n",
       "      <td>0.0</td>\n",
       "      <td>0.0</td>\n",
       "      <td>...</td>\n",
       "      <td>0.0</td>\n",
       "      <td>0.0</td>\n",
       "      <td>0.0</td>\n",
       "      <td>0.0</td>\n",
       "      <td>0.0</td>\n",
       "      <td>0.0</td>\n",
       "      <td>0.0</td>\n",
       "      <td>0.0</td>\n",
       "      <td>0.0</td>\n",
       "      <td>0.0</td>\n",
       "    </tr>\n",
       "    <tr>\n",
       "      <th>1</th>\n",
       "      <td>0.0</td>\n",
       "      <td>0.0</td>\n",
       "      <td>0.0</td>\n",
       "      <td>0.0</td>\n",
       "      <td>0.0</td>\n",
       "      <td>0.0</td>\n",
       "      <td>0.0</td>\n",
       "      <td>0.0</td>\n",
       "      <td>0.0</td>\n",
       "      <td>0.0</td>\n",
       "      <td>...</td>\n",
       "      <td>0.0</td>\n",
       "      <td>0.0</td>\n",
       "      <td>0.0</td>\n",
       "      <td>0.0</td>\n",
       "      <td>0.0</td>\n",
       "      <td>0.0</td>\n",
       "      <td>0.0</td>\n",
       "      <td>0.0</td>\n",
       "      <td>0.0</td>\n",
       "      <td>0.0</td>\n",
       "    </tr>\n",
       "    <tr>\n",
       "      <th>2</th>\n",
       "      <td>0.0</td>\n",
       "      <td>0.0</td>\n",
       "      <td>0.0</td>\n",
       "      <td>0.0</td>\n",
       "      <td>0.0</td>\n",
       "      <td>0.0</td>\n",
       "      <td>0.0</td>\n",
       "      <td>0.0</td>\n",
       "      <td>0.0</td>\n",
       "      <td>0.0</td>\n",
       "      <td>...</td>\n",
       "      <td>0.0</td>\n",
       "      <td>0.0</td>\n",
       "      <td>0.0</td>\n",
       "      <td>0.0</td>\n",
       "      <td>0.0</td>\n",
       "      <td>0.0</td>\n",
       "      <td>0.0</td>\n",
       "      <td>0.0</td>\n",
       "      <td>0.0</td>\n",
       "      <td>0.0</td>\n",
       "    </tr>\n",
       "    <tr>\n",
       "      <th>3</th>\n",
       "      <td>0.0</td>\n",
       "      <td>0.0</td>\n",
       "      <td>0.0</td>\n",
       "      <td>0.0</td>\n",
       "      <td>0.0</td>\n",
       "      <td>0.0</td>\n",
       "      <td>0.0</td>\n",
       "      <td>0.0</td>\n",
       "      <td>0.0</td>\n",
       "      <td>0.0</td>\n",
       "      <td>...</td>\n",
       "      <td>0.0</td>\n",
       "      <td>0.0</td>\n",
       "      <td>0.0</td>\n",
       "      <td>0.0</td>\n",
       "      <td>0.0</td>\n",
       "      <td>0.0</td>\n",
       "      <td>0.0</td>\n",
       "      <td>0.0</td>\n",
       "      <td>0.0</td>\n",
       "      <td>0.0</td>\n",
       "    </tr>\n",
       "    <tr>\n",
       "      <th>4</th>\n",
       "      <td>0.0</td>\n",
       "      <td>0.0</td>\n",
       "      <td>0.0</td>\n",
       "      <td>0.0</td>\n",
       "      <td>0.0</td>\n",
       "      <td>0.0</td>\n",
       "      <td>0.0</td>\n",
       "      <td>0.0</td>\n",
       "      <td>0.0</td>\n",
       "      <td>0.0</td>\n",
       "      <td>...</td>\n",
       "      <td>0.0</td>\n",
       "      <td>0.0</td>\n",
       "      <td>0.0</td>\n",
       "      <td>0.0</td>\n",
       "      <td>0.0</td>\n",
       "      <td>0.0</td>\n",
       "      <td>0.0</td>\n",
       "      <td>0.0</td>\n",
       "      <td>0.0</td>\n",
       "      <td>0.0</td>\n",
       "    </tr>\n",
       "    <tr>\n",
       "      <th>...</th>\n",
       "      <td>...</td>\n",
       "      <td>...</td>\n",
       "      <td>...</td>\n",
       "      <td>...</td>\n",
       "      <td>...</td>\n",
       "      <td>...</td>\n",
       "      <td>...</td>\n",
       "      <td>...</td>\n",
       "      <td>...</td>\n",
       "      <td>...</td>\n",
       "      <td>...</td>\n",
       "      <td>...</td>\n",
       "      <td>...</td>\n",
       "      <td>...</td>\n",
       "      <td>...</td>\n",
       "      <td>...</td>\n",
       "      <td>...</td>\n",
       "      <td>...</td>\n",
       "      <td>...</td>\n",
       "      <td>...</td>\n",
       "      <td>...</td>\n",
       "    </tr>\n",
       "    <tr>\n",
       "      <th>3730</th>\n",
       "      <td>0.0</td>\n",
       "      <td>0.0</td>\n",
       "      <td>0.0</td>\n",
       "      <td>0.0</td>\n",
       "      <td>0.0</td>\n",
       "      <td>0.0</td>\n",
       "      <td>0.0</td>\n",
       "      <td>0.0</td>\n",
       "      <td>0.0</td>\n",
       "      <td>0.0</td>\n",
       "      <td>...</td>\n",
       "      <td>0.0</td>\n",
       "      <td>0.0</td>\n",
       "      <td>0.0</td>\n",
       "      <td>0.0</td>\n",
       "      <td>0.0</td>\n",
       "      <td>0.0</td>\n",
       "      <td>0.0</td>\n",
       "      <td>0.0</td>\n",
       "      <td>0.0</td>\n",
       "      <td>0.0</td>\n",
       "    </tr>\n",
       "    <tr>\n",
       "      <th>3731</th>\n",
       "      <td>0.0</td>\n",
       "      <td>0.0</td>\n",
       "      <td>0.0</td>\n",
       "      <td>0.0</td>\n",
       "      <td>0.0</td>\n",
       "      <td>0.0</td>\n",
       "      <td>0.0</td>\n",
       "      <td>0.0</td>\n",
       "      <td>0.0</td>\n",
       "      <td>0.0</td>\n",
       "      <td>...</td>\n",
       "      <td>0.0</td>\n",
       "      <td>0.0</td>\n",
       "      <td>0.0</td>\n",
       "      <td>0.0</td>\n",
       "      <td>0.0</td>\n",
       "      <td>0.0</td>\n",
       "      <td>0.0</td>\n",
       "      <td>0.0</td>\n",
       "      <td>0.0</td>\n",
       "      <td>0.0</td>\n",
       "    </tr>\n",
       "    <tr>\n",
       "      <th>3732</th>\n",
       "      <td>0.0</td>\n",
       "      <td>0.0</td>\n",
       "      <td>0.0</td>\n",
       "      <td>0.0</td>\n",
       "      <td>0.0</td>\n",
       "      <td>0.0</td>\n",
       "      <td>0.0</td>\n",
       "      <td>0.0</td>\n",
       "      <td>0.0</td>\n",
       "      <td>0.0</td>\n",
       "      <td>...</td>\n",
       "      <td>0.0</td>\n",
       "      <td>0.0</td>\n",
       "      <td>0.0</td>\n",
       "      <td>0.0</td>\n",
       "      <td>0.0</td>\n",
       "      <td>0.0</td>\n",
       "      <td>0.0</td>\n",
       "      <td>0.0</td>\n",
       "      <td>0.0</td>\n",
       "      <td>0.0</td>\n",
       "    </tr>\n",
       "    <tr>\n",
       "      <th>3733</th>\n",
       "      <td>0.0</td>\n",
       "      <td>0.0</td>\n",
       "      <td>0.0</td>\n",
       "      <td>0.0</td>\n",
       "      <td>0.0</td>\n",
       "      <td>0.0</td>\n",
       "      <td>0.0</td>\n",
       "      <td>0.0</td>\n",
       "      <td>0.0</td>\n",
       "      <td>0.0</td>\n",
       "      <td>...</td>\n",
       "      <td>0.0</td>\n",
       "      <td>0.0</td>\n",
       "      <td>0.0</td>\n",
       "      <td>0.0</td>\n",
       "      <td>0.0</td>\n",
       "      <td>0.0</td>\n",
       "      <td>0.0</td>\n",
       "      <td>0.0</td>\n",
       "      <td>0.0</td>\n",
       "      <td>0.0</td>\n",
       "    </tr>\n",
       "    <tr>\n",
       "      <th>3734</th>\n",
       "      <td>0.0</td>\n",
       "      <td>0.0</td>\n",
       "      <td>0.0</td>\n",
       "      <td>0.0</td>\n",
       "      <td>0.0</td>\n",
       "      <td>0.0</td>\n",
       "      <td>0.0</td>\n",
       "      <td>0.0</td>\n",
       "      <td>0.0</td>\n",
       "      <td>0.0</td>\n",
       "      <td>...</td>\n",
       "      <td>0.0</td>\n",
       "      <td>0.0</td>\n",
       "      <td>0.0</td>\n",
       "      <td>0.0</td>\n",
       "      <td>0.0</td>\n",
       "      <td>0.0</td>\n",
       "      <td>0.0</td>\n",
       "      <td>0.0</td>\n",
       "      <td>0.0</td>\n",
       "      <td>0.0</td>\n",
       "    </tr>\n",
       "  </tbody>\n",
       "</table>\n",
       "<p>3735 rows × 450 columns</p>\n",
       "</div>"
      ],
      "text/plain": [
       "        1    2    3    4    5    6    7    8    9   10  ...  441  442  443  \\\n",
       "0     0.0  0.0  0.0  0.0  0.0  0.0  0.0  0.0  0.0  0.0  ...  0.0  0.0  0.0   \n",
       "1     0.0  0.0  0.0  0.0  0.0  0.0  0.0  0.0  0.0  0.0  ...  0.0  0.0  0.0   \n",
       "2     0.0  0.0  0.0  0.0  0.0  0.0  0.0  0.0  0.0  0.0  ...  0.0  0.0  0.0   \n",
       "3     0.0  0.0  0.0  0.0  0.0  0.0  0.0  0.0  0.0  0.0  ...  0.0  0.0  0.0   \n",
       "4     0.0  0.0  0.0  0.0  0.0  0.0  0.0  0.0  0.0  0.0  ...  0.0  0.0  0.0   \n",
       "...   ...  ...  ...  ...  ...  ...  ...  ...  ...  ...  ...  ...  ...  ...   \n",
       "3730  0.0  0.0  0.0  0.0  0.0  0.0  0.0  0.0  0.0  0.0  ...  0.0  0.0  0.0   \n",
       "3731  0.0  0.0  0.0  0.0  0.0  0.0  0.0  0.0  0.0  0.0  ...  0.0  0.0  0.0   \n",
       "3732  0.0  0.0  0.0  0.0  0.0  0.0  0.0  0.0  0.0  0.0  ...  0.0  0.0  0.0   \n",
       "3733  0.0  0.0  0.0  0.0  0.0  0.0  0.0  0.0  0.0  0.0  ...  0.0  0.0  0.0   \n",
       "3734  0.0  0.0  0.0  0.0  0.0  0.0  0.0  0.0  0.0  0.0  ...  0.0  0.0  0.0   \n",
       "\n",
       "      444  445  446  447  448  449  450  \n",
       "0     0.0  0.0  0.0  0.0  0.0  0.0  0.0  \n",
       "1     0.0  0.0  0.0  0.0  0.0  0.0  0.0  \n",
       "2     0.0  0.0  0.0  0.0  0.0  0.0  0.0  \n",
       "3     0.0  0.0  0.0  0.0  0.0  0.0  0.0  \n",
       "4     0.0  0.0  0.0  0.0  0.0  0.0  0.0  \n",
       "...   ...  ...  ...  ...  ...  ...  ...  \n",
       "3730  0.0  0.0  0.0  0.0  0.0  0.0  0.0  \n",
       "3731  0.0  0.0  0.0  0.0  0.0  0.0  0.0  \n",
       "3732  0.0  0.0  0.0  0.0  0.0  0.0  0.0  \n",
       "3733  0.0  0.0  0.0  0.0  0.0  0.0  0.0  \n",
       "3734  0.0  0.0  0.0  0.0  0.0  0.0  0.0  \n",
       "\n",
       "[3735 rows x 450 columns]"
      ]
     },
     "execution_count": 181,
     "metadata": {},
     "output_type": "execute_result"
    }
   ],
   "source": [
    "latitude_trial"
   ]
  },
  {
   "cell_type": "code",
   "execution_count": 184,
   "id": "28ac1c34-4c9e-4462-9fc1-c9253107b2c2",
   "metadata": {},
   "outputs": [],
   "source": [
    "latitude_trial=latitude_trial.loc[~(latitude_trial==0).all(axis=1)]\n",
    "df=latitude.copy()"
   ]
  },
  {
   "cell_type": "code",
   "execution_count": 185,
   "id": "af6c7db1-1f18-4e00-8ca6-a9447f19bb1a",
   "metadata": {},
   "outputs": [],
   "source": [
    "df = df.loc[(df).any(1), (df!=0).any(0)]"
   ]
  },
  {
   "cell_type": "code",
   "execution_count": 187,
   "id": "315c10c6-e224-41e9-aa86-4530e3b3e37e",
   "metadata": {},
   "outputs": [],
   "source": [
    "df = df[(df.T != 0).any()]"
   ]
  },
  {
   "cell_type": "code",
   "execution_count": 163,
   "id": "4fbff19d-bd3b-475f-bf37-070f95bf1cc3",
   "metadata": {},
   "outputs": [],
   "source": [
    "for i in latitude_trial.columns:\n",
    "    latitude_trial=latitude_trial[latitude_trial[i] != 0]"
   ]
  },
  {
   "cell_type": "code",
   "execution_count": 164,
   "id": "c5e87168-f582-4f79-ae50-d157994abb31",
   "metadata": {},
   "outputs": [
    {
     "data": {
      "text/html": [
       "<div>\n",
       "<style scoped>\n",
       "    .dataframe tbody tr th:only-of-type {\n",
       "        vertical-align: middle;\n",
       "    }\n",
       "\n",
       "    .dataframe tbody tr th {\n",
       "        vertical-align: top;\n",
       "    }\n",
       "\n",
       "    .dataframe thead th {\n",
       "        text-align: right;\n",
       "    }\n",
       "</style>\n",
       "<table border=\"1\" class=\"dataframe\">\n",
       "  <thead>\n",
       "    <tr style=\"text-align: right;\">\n",
       "      <th></th>\n",
       "      <th>index</th>\n",
       "      <th>1</th>\n",
       "      <th>2</th>\n",
       "      <th>3</th>\n",
       "      <th>4</th>\n",
       "      <th>5</th>\n",
       "      <th>6</th>\n",
       "      <th>7</th>\n",
       "      <th>8</th>\n",
       "      <th>9</th>\n",
       "      <th>...</th>\n",
       "      <th>441</th>\n",
       "      <th>442</th>\n",
       "      <th>443</th>\n",
       "      <th>444</th>\n",
       "      <th>445</th>\n",
       "      <th>446</th>\n",
       "      <th>447</th>\n",
       "      <th>448</th>\n",
       "      <th>449</th>\n",
       "      <th>450</th>\n",
       "    </tr>\n",
       "  </thead>\n",
       "  <tbody>\n",
       "  </tbody>\n",
       "</table>\n",
       "<p>0 rows × 451 columns</p>\n",
       "</div>"
      ],
      "text/plain": [
       "Empty DataFrame\n",
       "Columns: [index, 1, 2, 3, 4, 5, 6, 7, 8, 9, 10, 11, 12, 13, 14, 15, 16, 17, 18, 19, 20, 21, 22, 23, 24, 25, 26, 27, 28, 29, 30, 31, 32, 33, 34, 35, 36, 37, 38, 39, 40, 41, 42, 43, 44, 45, 46, 47, 48, 49, 50, 51, 52, 53, 54, 55, 56, 57, 58, 59, 60, 61, 62, 63, 64, 65, 66, 67, 68, 69, 70, 71, 72, 73, 74, 75, 76, 77, 78, 79, 80, 81, 82, 83, 84, 85, 86, 87, 88, 89, 90, 91, 92, 93, 94, 95, 96, 97, 98, 99, ...]\n",
       "Index: []\n",
       "\n",
       "[0 rows x 451 columns]"
      ]
     },
     "execution_count": 164,
     "metadata": {},
     "output_type": "execute_result"
    }
   ],
   "source": [
    "latitude_trial"
   ]
  },
  {
   "cell_type": "code",
   "execution_count": 123,
   "id": "881eb727-831d-461d-8be2-e42428ea1ec6",
   "metadata": {},
   "outputs": [
    {
     "data": {
      "text/html": [
       "<div>\n",
       "<style scoped>\n",
       "    .dataframe tbody tr th:only-of-type {\n",
       "        vertical-align: middle;\n",
       "    }\n",
       "\n",
       "    .dataframe tbody tr th {\n",
       "        vertical-align: top;\n",
       "    }\n",
       "\n",
       "    .dataframe thead th {\n",
       "        text-align: right;\n",
       "    }\n",
       "</style>\n",
       "<table border=\"1\" class=\"dataframe\">\n",
       "  <thead>\n",
       "    <tr style=\"text-align: right;\">\n",
       "      <th></th>\n",
       "      <th>1</th>\n",
       "      <th>2</th>\n",
       "      <th>3</th>\n",
       "      <th>4</th>\n",
       "      <th>5</th>\n",
       "      <th>6</th>\n",
       "      <th>7</th>\n",
       "      <th>8</th>\n",
       "      <th>9</th>\n",
       "      <th>10</th>\n",
       "      <th>...</th>\n",
       "      <th>441</th>\n",
       "      <th>442</th>\n",
       "      <th>443</th>\n",
       "      <th>444</th>\n",
       "      <th>445</th>\n",
       "      <th>446</th>\n",
       "      <th>447</th>\n",
       "      <th>448</th>\n",
       "      <th>449</th>\n",
       "      <th>450</th>\n",
       "    </tr>\n",
       "  </thead>\n",
       "  <tbody>\n",
       "    <tr>\n",
       "      <th>1927</th>\n",
       "      <td>NaN</td>\n",
       "      <td>NaN</td>\n",
       "      <td>NaN</td>\n",
       "      <td>NaN</td>\n",
       "      <td>NaN</td>\n",
       "      <td>NaN</td>\n",
       "      <td>NaN</td>\n",
       "      <td>NaN</td>\n",
       "      <td>NaN</td>\n",
       "      <td>NaN</td>\n",
       "      <td>...</td>\n",
       "      <td>NaN</td>\n",
       "      <td>NaN</td>\n",
       "      <td>NaN</td>\n",
       "      <td>-0.994721</td>\n",
       "      <td>-0.988281</td>\n",
       "      <td>-0.981761</td>\n",
       "      <td>-0.975161</td>\n",
       "      <td>-0.968477</td>\n",
       "      <td>-0.961708</td>\n",
       "      <td>-0.954849</td>\n",
       "    </tr>\n",
       "    <tr>\n",
       "      <th>1928</th>\n",
       "      <td>NaN</td>\n",
       "      <td>NaN</td>\n",
       "      <td>NaN</td>\n",
       "      <td>NaN</td>\n",
       "      <td>NaN</td>\n",
       "      <td>NaN</td>\n",
       "      <td>NaN</td>\n",
       "      <td>NaN</td>\n",
       "      <td>NaN</td>\n",
       "      <td>NaN</td>\n",
       "      <td>...</td>\n",
       "      <td>-0.965192</td>\n",
       "      <td>-0.958987</td>\n",
       "      <td>-0.952710</td>\n",
       "      <td>-0.946359</td>\n",
       "      <td>-0.939932</td>\n",
       "      <td>-0.933426</td>\n",
       "      <td>-0.926840</td>\n",
       "      <td>-0.920170</td>\n",
       "      <td>-0.913415</td>\n",
       "      <td>-0.906571</td>\n",
       "    </tr>\n",
       "    <tr>\n",
       "      <th>1929</th>\n",
       "      <td>NaN</td>\n",
       "      <td>NaN</td>\n",
       "      <td>NaN</td>\n",
       "      <td>NaN</td>\n",
       "      <td>NaN</td>\n",
       "      <td>NaN</td>\n",
       "      <td>NaN</td>\n",
       "      <td>NaN</td>\n",
       "      <td>NaN</td>\n",
       "      <td>NaN</td>\n",
       "      <td>...</td>\n",
       "      <td>-0.916801</td>\n",
       "      <td>-0.910608</td>\n",
       "      <td>-0.904344</td>\n",
       "      <td>-0.898007</td>\n",
       "      <td>-0.891593</td>\n",
       "      <td>-0.885101</td>\n",
       "      <td>-0.878529</td>\n",
       "      <td>-0.871873</td>\n",
       "      <td>-0.865132</td>\n",
       "      <td>-0.858304</td>\n",
       "    </tr>\n",
       "    <tr>\n",
       "      <th>1930</th>\n",
       "      <td>NaN</td>\n",
       "      <td>NaN</td>\n",
       "      <td>NaN</td>\n",
       "      <td>NaN</td>\n",
       "      <td>NaN</td>\n",
       "      <td>NaN</td>\n",
       "      <td>NaN</td>\n",
       "      <td>NaN</td>\n",
       "      <td>NaN</td>\n",
       "      <td>NaN</td>\n",
       "      <td>...</td>\n",
       "      <td>-0.868423</td>\n",
       "      <td>-0.862243</td>\n",
       "      <td>-0.855992</td>\n",
       "      <td>-0.849668</td>\n",
       "      <td>-0.843267</td>\n",
       "      <td>-0.836789</td>\n",
       "      <td>-0.830231</td>\n",
       "      <td>-0.823590</td>\n",
       "      <td>-0.816864</td>\n",
       "      <td>-0.810050</td>\n",
       "    </tr>\n",
       "    <tr>\n",
       "      <th>1931</th>\n",
       "      <td>NaN</td>\n",
       "      <td>NaN</td>\n",
       "      <td>NaN</td>\n",
       "      <td>NaN</td>\n",
       "      <td>NaN</td>\n",
       "      <td>NaN</td>\n",
       "      <td>NaN</td>\n",
       "      <td>NaN</td>\n",
       "      <td>NaN</td>\n",
       "      <td>NaN</td>\n",
       "      <td>...</td>\n",
       "      <td>-0.820085</td>\n",
       "      <td>-0.813918</td>\n",
       "      <td>-0.807681</td>\n",
       "      <td>-0.801369</td>\n",
       "      <td>-0.794983</td>\n",
       "      <td>-0.788519</td>\n",
       "      <td>-0.781974</td>\n",
       "      <td>-0.775348</td>\n",
       "      <td>-0.768636</td>\n",
       "      <td>-0.761837</td>\n",
       "    </tr>\n",
       "    <tr>\n",
       "      <th>...</th>\n",
       "      <td>...</td>\n",
       "      <td>...</td>\n",
       "      <td>...</td>\n",
       "      <td>...</td>\n",
       "      <td>...</td>\n",
       "      <td>...</td>\n",
       "      <td>...</td>\n",
       "      <td>...</td>\n",
       "      <td>...</td>\n",
       "      <td>...</td>\n",
       "      <td>...</td>\n",
       "      <td>...</td>\n",
       "      <td>...</td>\n",
       "      <td>...</td>\n",
       "      <td>...</td>\n",
       "      <td>...</td>\n",
       "      <td>...</td>\n",
       "      <td>...</td>\n",
       "      <td>...</td>\n",
       "      <td>...</td>\n",
       "      <td>...</td>\n",
       "    </tr>\n",
       "    <tr>\n",
       "      <th>3124</th>\n",
       "      <td>49.790680</td>\n",
       "      <td>49.845790</td>\n",
       "      <td>49.900055</td>\n",
       "      <td>49.953495</td>\n",
       "      <td>NaN</td>\n",
       "      <td>NaN</td>\n",
       "      <td>NaN</td>\n",
       "      <td>NaN</td>\n",
       "      <td>NaN</td>\n",
       "      <td>NaN</td>\n",
       "      <td>...</td>\n",
       "      <td>NaN</td>\n",
       "      <td>NaN</td>\n",
       "      <td>NaN</td>\n",
       "      <td>NaN</td>\n",
       "      <td>NaN</td>\n",
       "      <td>NaN</td>\n",
       "      <td>NaN</td>\n",
       "      <td>NaN</td>\n",
       "      <td>NaN</td>\n",
       "      <td>NaN</td>\n",
       "    </tr>\n",
       "    <tr>\n",
       "      <th>3125</th>\n",
       "      <td>49.833220</td>\n",
       "      <td>49.888374</td>\n",
       "      <td>49.942684</td>\n",
       "      <td>49.996166</td>\n",
       "      <td>NaN</td>\n",
       "      <td>NaN</td>\n",
       "      <td>NaN</td>\n",
       "      <td>NaN</td>\n",
       "      <td>NaN</td>\n",
       "      <td>NaN</td>\n",
       "      <td>...</td>\n",
       "      <td>NaN</td>\n",
       "      <td>NaN</td>\n",
       "      <td>NaN</td>\n",
       "      <td>NaN</td>\n",
       "      <td>NaN</td>\n",
       "      <td>NaN</td>\n",
       "      <td>NaN</td>\n",
       "      <td>NaN</td>\n",
       "      <td>NaN</td>\n",
       "      <td>NaN</td>\n",
       "    </tr>\n",
       "    <tr>\n",
       "      <th>3126</th>\n",
       "      <td>49.875725</td>\n",
       "      <td>49.930923</td>\n",
       "      <td>49.985270</td>\n",
       "      <td>NaN</td>\n",
       "      <td>NaN</td>\n",
       "      <td>NaN</td>\n",
       "      <td>NaN</td>\n",
       "      <td>NaN</td>\n",
       "      <td>NaN</td>\n",
       "      <td>NaN</td>\n",
       "      <td>...</td>\n",
       "      <td>NaN</td>\n",
       "      <td>NaN</td>\n",
       "      <td>NaN</td>\n",
       "      <td>NaN</td>\n",
       "      <td>NaN</td>\n",
       "      <td>NaN</td>\n",
       "      <td>NaN</td>\n",
       "      <td>NaN</td>\n",
       "      <td>NaN</td>\n",
       "      <td>NaN</td>\n",
       "    </tr>\n",
       "    <tr>\n",
       "      <th>3127</th>\n",
       "      <td>49.918350</td>\n",
       "      <td>49.973587</td>\n",
       "      <td>NaN</td>\n",
       "      <td>NaN</td>\n",
       "      <td>NaN</td>\n",
       "      <td>NaN</td>\n",
       "      <td>NaN</td>\n",
       "      <td>NaN</td>\n",
       "      <td>NaN</td>\n",
       "      <td>NaN</td>\n",
       "      <td>...</td>\n",
       "      <td>NaN</td>\n",
       "      <td>NaN</td>\n",
       "      <td>NaN</td>\n",
       "      <td>NaN</td>\n",
       "      <td>NaN</td>\n",
       "      <td>NaN</td>\n",
       "      <td>NaN</td>\n",
       "      <td>NaN</td>\n",
       "      <td>NaN</td>\n",
       "      <td>NaN</td>\n",
       "    </tr>\n",
       "    <tr>\n",
       "      <th>3128</th>\n",
       "      <td>49.960740</td>\n",
       "      <td>NaN</td>\n",
       "      <td>NaN</td>\n",
       "      <td>NaN</td>\n",
       "      <td>NaN</td>\n",
       "      <td>NaN</td>\n",
       "      <td>NaN</td>\n",
       "      <td>NaN</td>\n",
       "      <td>NaN</td>\n",
       "      <td>NaN</td>\n",
       "      <td>...</td>\n",
       "      <td>NaN</td>\n",
       "      <td>NaN</td>\n",
       "      <td>NaN</td>\n",
       "      <td>NaN</td>\n",
       "      <td>NaN</td>\n",
       "      <td>NaN</td>\n",
       "      <td>NaN</td>\n",
       "      <td>NaN</td>\n",
       "      <td>NaN</td>\n",
       "      <td>NaN</td>\n",
       "    </tr>\n",
       "  </tbody>\n",
       "</table>\n",
       "<p>1202 rows × 450 columns</p>\n",
       "</div>"
      ],
      "text/plain": [
       "              1          2          3          4   5   6   7   8   9  10  ...  \\\n",
       "1927        NaN        NaN        NaN        NaN NaN NaN NaN NaN NaN NaN  ...   \n",
       "1928        NaN        NaN        NaN        NaN NaN NaN NaN NaN NaN NaN  ...   \n",
       "1929        NaN        NaN        NaN        NaN NaN NaN NaN NaN NaN NaN  ...   \n",
       "1930        NaN        NaN        NaN        NaN NaN NaN NaN NaN NaN NaN  ...   \n",
       "1931        NaN        NaN        NaN        NaN NaN NaN NaN NaN NaN NaN  ...   \n",
       "...         ...        ...        ...        ...  ..  ..  ..  ..  ..  ..  ...   \n",
       "3124  49.790680  49.845790  49.900055  49.953495 NaN NaN NaN NaN NaN NaN  ...   \n",
       "3125  49.833220  49.888374  49.942684  49.996166 NaN NaN NaN NaN NaN NaN  ...   \n",
       "3126  49.875725  49.930923  49.985270        NaN NaN NaN NaN NaN NaN NaN  ...   \n",
       "3127  49.918350  49.973587        NaN        NaN NaN NaN NaN NaN NaN NaN  ...   \n",
       "3128  49.960740        NaN        NaN        NaN NaN NaN NaN NaN NaN NaN  ...   \n",
       "\n",
       "           441       442       443       444       445       446       447  \\\n",
       "1927       NaN       NaN       NaN -0.994721 -0.988281 -0.981761 -0.975161   \n",
       "1928 -0.965192 -0.958987 -0.952710 -0.946359 -0.939932 -0.933426 -0.926840   \n",
       "1929 -0.916801 -0.910608 -0.904344 -0.898007 -0.891593 -0.885101 -0.878529   \n",
       "1930 -0.868423 -0.862243 -0.855992 -0.849668 -0.843267 -0.836789 -0.830231   \n",
       "1931 -0.820085 -0.813918 -0.807681 -0.801369 -0.794983 -0.788519 -0.781974   \n",
       "...        ...       ...       ...       ...       ...       ...       ...   \n",
       "3124       NaN       NaN       NaN       NaN       NaN       NaN       NaN   \n",
       "3125       NaN       NaN       NaN       NaN       NaN       NaN       NaN   \n",
       "3126       NaN       NaN       NaN       NaN       NaN       NaN       NaN   \n",
       "3127       NaN       NaN       NaN       NaN       NaN       NaN       NaN   \n",
       "3128       NaN       NaN       NaN       NaN       NaN       NaN       NaN   \n",
       "\n",
       "           448       449       450  \n",
       "1927 -0.968477 -0.961708 -0.954849  \n",
       "1928 -0.920170 -0.913415 -0.906571  \n",
       "1929 -0.871873 -0.865132 -0.858304  \n",
       "1930 -0.823590 -0.816864 -0.810050  \n",
       "1931 -0.775348 -0.768636 -0.761837  \n",
       "...        ...       ...       ...  \n",
       "3124       NaN       NaN       NaN  \n",
       "3125       NaN       NaN       NaN  \n",
       "3126       NaN       NaN       NaN  \n",
       "3127       NaN       NaN       NaN  \n",
       "3128       NaN       NaN       NaN  \n",
       "\n",
       "[1202 rows x 450 columns]"
      ]
     },
     "execution_count": 123,
     "metadata": {},
     "output_type": "execute_result"
    }
   ],
   "source": [
    "latitude_trial=latitude_trial.replace(0,np.nan).dropna(axis=1,how=\"all\")\n",
    "latitude_trial\n"
   ]
  },
  {
   "cell_type": "code",
   "execution_count": 114,
   "id": "3f5ece32-07d5-4a77-84a2-c1db671f1163",
   "metadata": {},
   "outputs": [],
   "source": [
    "coord=pd.read_csv('data1/25_03_2021/coord.csv')\n",
    "def extract(coordinates):\n",
    "    latitude_1=50.0\n",
    "    latitude_2=52\n",
    "    longitude_1=-1\n",
    "    longitude_2=2\n",
    "    lat=float(coordinates.split(',')[0])\n",
    "    lon=float(coordinates.split(',')[1])\n",
    "    if lat > latitude_1 and lat < latitude_2 and lon > longitude_1 and lon < longitude_2:\n",
    "        return str(lat)+','+str(lon)\n",
    "    else:\n",
    "        return 0\n",
    "\n",
    "coord_local=coord.copy()\n",
    "for i in coord_local.columns.tolist():\n",
    "    coord_local[i]=coord_local[i].apply(lambda x: extract(x))\n",
    "\t\n",
    "coord_local=coord_local.loc[~(coord_local==0).all(axis=1)]\n",
    "#coord_local\n",
    "\n",
    "coord_local=coord_local.loc[~(coord_local==0).all(axis=1)]\n",
    "\n",
    "list_drop=[]\n",
    "'''\n",
    "if coord_local[i].sum()==0:\n",
    "            list_drop.append(i)\n",
    "'''\n",
    "for i in coord_local.columns:\n",
    "    #coord_local[i]=coord_local[i].apply(lambda x:float(x))\n",
    "    try:\n",
    "        coord_local[i]=coord_local[i].apply(lambda x:float(x))\n",
    "        \n",
    "    except ValueError:\n",
    "        continue\n",
    "    try:\n",
    "        if coord_local[i].sum()==0:\n",
    "            list_drop.append(i)\n",
    "    except TypeError:\n",
    "        continue\n",
    "\n",
    "\n",
    "coord_local=coord_local.drop(list_drop, axis=1)\n",
    "import geopy.distance\n"
   ]
  },
  {
   "cell_type": "code",
   "execution_count": null,
   "id": "e84f0bd0-9b07-4f39-975b-00e040028f53",
   "metadata": {},
   "outputs": [],
   "source": []
  },
  {
   "cell_type": "code",
   "execution_count": null,
   "id": "dbca1f97-08ed-4d97-843f-eccc6a204635",
   "metadata": {},
   "outputs": [],
   "source": [
    "df[df.my_channel > 20000].my_channel = 0"
   ]
  },
  {
   "cell_type": "code",
   "execution_count": 61,
   "id": "202a577f-ecb9-4d7a-9674-456c2fe23f89",
   "metadata": {},
   "outputs": [
    {
     "data": {
      "text/html": [
       "<div>\n",
       "<style scoped>\n",
       "    .dataframe tbody tr th:only-of-type {\n",
       "        vertical-align: middle;\n",
       "    }\n",
       "\n",
       "    .dataframe tbody tr th {\n",
       "        vertical-align: top;\n",
       "    }\n",
       "\n",
       "    .dataframe thead th {\n",
       "        text-align: right;\n",
       "    }\n",
       "</style>\n",
       "<table border=\"1\" class=\"dataframe\">\n",
       "  <thead>\n",
       "    <tr style=\"text-align: right;\">\n",
       "      <th></th>\n",
       "      <th>1</th>\n",
       "      <th>2</th>\n",
       "      <th>3</th>\n",
       "      <th>4</th>\n",
       "      <th>5</th>\n",
       "      <th>6</th>\n",
       "      <th>7</th>\n",
       "      <th>8</th>\n",
       "      <th>9</th>\n",
       "      <th>10</th>\n",
       "      <th>...</th>\n",
       "      <th>441</th>\n",
       "      <th>442</th>\n",
       "      <th>443</th>\n",
       "      <th>444</th>\n",
       "      <th>445</th>\n",
       "      <th>446</th>\n",
       "      <th>447</th>\n",
       "      <th>448</th>\n",
       "      <th>449</th>\n",
       "      <th>450</th>\n",
       "    </tr>\n",
       "  </thead>\n",
       "  <tbody>\n",
       "    <tr>\n",
       "      <th>0</th>\n",
       "      <td>-80.200420</td>\n",
       "      <td>-80.245056</td>\n",
       "      <td>-80.288475</td>\n",
       "      <td>-80.330710</td>\n",
       "      <td>-80.371796</td>\n",
       "      <td>-80.411766</td>\n",
       "      <td>-80.450645</td>\n",
       "      <td>-80.488464</td>\n",
       "      <td>-80.525250</td>\n",
       "      <td>-80.561035</td>\n",
       "      <td>...</td>\n",
       "      <td>-67.670870</td>\n",
       "      <td>-67.596790</td>\n",
       "      <td>-67.521750</td>\n",
       "      <td>-67.445740</td>\n",
       "      <td>-67.368720</td>\n",
       "      <td>-67.290670</td>\n",
       "      <td>-67.211570</td>\n",
       "      <td>-67.131390</td>\n",
       "      <td>-67.050095</td>\n",
       "      <td>-66.967650</td>\n",
       "    </tr>\n",
       "    <tr>\n",
       "      <th>1</th>\n",
       "      <td>-80.244020</td>\n",
       "      <td>-80.288820</td>\n",
       "      <td>-80.332390</td>\n",
       "      <td>-80.374780</td>\n",
       "      <td>-80.416016</td>\n",
       "      <td>-80.456130</td>\n",
       "      <td>-80.495155</td>\n",
       "      <td>-80.533110</td>\n",
       "      <td>-80.570040</td>\n",
       "      <td>-80.605950</td>\n",
       "      <td>...</td>\n",
       "      <td>-67.691140</td>\n",
       "      <td>-67.617010</td>\n",
       "      <td>-67.541940</td>\n",
       "      <td>-67.465880</td>\n",
       "      <td>-67.388820</td>\n",
       "      <td>-67.310730</td>\n",
       "      <td>-67.231580</td>\n",
       "      <td>-67.151350</td>\n",
       "      <td>-67.070015</td>\n",
       "      <td>-66.987526</td>\n",
       "    </tr>\n",
       "    <tr>\n",
       "      <th>2</th>\n",
       "      <td>-80.287530</td>\n",
       "      <td>-80.332480</td>\n",
       "      <td>-80.376220</td>\n",
       "      <td>-80.418760</td>\n",
       "      <td>-80.460150</td>\n",
       "      <td>-80.500410</td>\n",
       "      <td>-80.539580</td>\n",
       "      <td>-80.577680</td>\n",
       "      <td>-80.614746</td>\n",
       "      <td>-80.650795</td>\n",
       "      <td>...</td>\n",
       "      <td>-67.711400</td>\n",
       "      <td>-67.637230</td>\n",
       "      <td>-67.562110</td>\n",
       "      <td>-67.486015</td>\n",
       "      <td>-67.408910</td>\n",
       "      <td>-67.330780</td>\n",
       "      <td>-67.251595</td>\n",
       "      <td>-67.171320</td>\n",
       "      <td>-67.089935</td>\n",
       "      <td>-67.007410</td>\n",
       "    </tr>\n",
       "    <tr>\n",
       "      <th>3</th>\n",
       "      <td>-80.331154</td>\n",
       "      <td>-80.376274</td>\n",
       "      <td>-80.420166</td>\n",
       "      <td>-80.462860</td>\n",
       "      <td>-80.504400</td>\n",
       "      <td>-80.544810</td>\n",
       "      <td>-80.584120</td>\n",
       "      <td>-80.622360</td>\n",
       "      <td>-80.659560</td>\n",
       "      <td>-80.695740</td>\n",
       "      <td>...</td>\n",
       "      <td>-67.731450</td>\n",
       "      <td>-67.657250</td>\n",
       "      <td>-67.582085</td>\n",
       "      <td>-67.505940</td>\n",
       "      <td>-67.428795</td>\n",
       "      <td>-67.350620</td>\n",
       "      <td>-67.271385</td>\n",
       "      <td>-67.191070</td>\n",
       "      <td>-67.109640</td>\n",
       "      <td>-67.027070</td>\n",
       "    </tr>\n",
       "    <tr>\n",
       "      <th>4</th>\n",
       "      <td>-80.374750</td>\n",
       "      <td>-80.420030</td>\n",
       "      <td>-80.464080</td>\n",
       "      <td>-80.506935</td>\n",
       "      <td>-80.548620</td>\n",
       "      <td>-80.589180</td>\n",
       "      <td>-80.628640</td>\n",
       "      <td>-80.667015</td>\n",
       "      <td>-80.704350</td>\n",
       "      <td>-80.740670</td>\n",
       "      <td>...</td>\n",
       "      <td>-67.751380</td>\n",
       "      <td>-67.677124</td>\n",
       "      <td>-67.601920</td>\n",
       "      <td>-67.525734</td>\n",
       "      <td>-67.448550</td>\n",
       "      <td>-67.370320</td>\n",
       "      <td>-67.291050</td>\n",
       "      <td>-67.210686</td>\n",
       "      <td>-67.129210</td>\n",
       "      <td>-67.046590</td>\n",
       "    </tr>\n",
       "    <tr>\n",
       "      <th>...</th>\n",
       "      <td>...</td>\n",
       "      <td>...</td>\n",
       "      <td>...</td>\n",
       "      <td>...</td>\n",
       "      <td>...</td>\n",
       "      <td>...</td>\n",
       "      <td>...</td>\n",
       "      <td>...</td>\n",
       "      <td>...</td>\n",
       "      <td>...</td>\n",
       "      <td>...</td>\n",
       "      <td>...</td>\n",
       "      <td>...</td>\n",
       "      <td>...</td>\n",
       "      <td>...</td>\n",
       "      <td>...</td>\n",
       "      <td>...</td>\n",
       "      <td>...</td>\n",
       "      <td>...</td>\n",
       "      <td>...</td>\n",
       "      <td>...</td>\n",
       "    </tr>\n",
       "    <tr>\n",
       "      <th>3730</th>\n",
       "      <td>68.534836</td>\n",
       "      <td>68.620540</td>\n",
       "      <td>68.705055</td>\n",
       "      <td>68.788420</td>\n",
       "      <td>68.870674</td>\n",
       "      <td>68.951830</td>\n",
       "      <td>69.031920</td>\n",
       "      <td>69.110980</td>\n",
       "      <td>69.189026</td>\n",
       "      <td>69.266090</td>\n",
       "      <td>...</td>\n",
       "      <td>86.038930</td>\n",
       "      <td>85.984080</td>\n",
       "      <td>85.927900</td>\n",
       "      <td>85.870410</td>\n",
       "      <td>85.811560</td>\n",
       "      <td>85.751366</td>\n",
       "      <td>85.689800</td>\n",
       "      <td>85.626830</td>\n",
       "      <td>85.562460</td>\n",
       "      <td>85.496660</td>\n",
       "    </tr>\n",
       "    <tr>\n",
       "      <th>3731</th>\n",
       "      <td>68.546640</td>\n",
       "      <td>68.632340</td>\n",
       "      <td>68.716866</td>\n",
       "      <td>68.800230</td>\n",
       "      <td>68.882484</td>\n",
       "      <td>68.963640</td>\n",
       "      <td>69.043740</td>\n",
       "      <td>69.122795</td>\n",
       "      <td>69.200840</td>\n",
       "      <td>69.277910</td>\n",
       "      <td>...</td>\n",
       "      <td>86.073074</td>\n",
       "      <td>86.017780</td>\n",
       "      <td>85.961174</td>\n",
       "      <td>85.903244</td>\n",
       "      <td>85.843970</td>\n",
       "      <td>85.783350</td>\n",
       "      <td>85.721350</td>\n",
       "      <td>85.657970</td>\n",
       "      <td>85.593180</td>\n",
       "      <td>85.526955</td>\n",
       "    </tr>\n",
       "    <tr>\n",
       "      <th>3732</th>\n",
       "      <td>68.558365</td>\n",
       "      <td>68.644070</td>\n",
       "      <td>68.728600</td>\n",
       "      <td>68.811966</td>\n",
       "      <td>68.894220</td>\n",
       "      <td>68.975380</td>\n",
       "      <td>69.055470</td>\n",
       "      <td>69.134540</td>\n",
       "      <td>69.212585</td>\n",
       "      <td>69.289650</td>\n",
       "      <td>...</td>\n",
       "      <td>86.106890</td>\n",
       "      <td>86.051155</td>\n",
       "      <td>85.994120</td>\n",
       "      <td>85.935750</td>\n",
       "      <td>85.876045</td>\n",
       "      <td>85.814995</td>\n",
       "      <td>85.752570</td>\n",
       "      <td>85.688760</td>\n",
       "      <td>85.623550</td>\n",
       "      <td>85.556915</td>\n",
       "    </tr>\n",
       "    <tr>\n",
       "      <th>3733</th>\n",
       "      <td>68.570100</td>\n",
       "      <td>68.655800</td>\n",
       "      <td>68.740326</td>\n",
       "      <td>68.823690</td>\n",
       "      <td>68.905945</td>\n",
       "      <td>68.987110</td>\n",
       "      <td>69.067200</td>\n",
       "      <td>69.146260</td>\n",
       "      <td>69.224310</td>\n",
       "      <td>69.301380</td>\n",
       "      <td>...</td>\n",
       "      <td>86.140360</td>\n",
       "      <td>86.084180</td>\n",
       "      <td>86.026695</td>\n",
       "      <td>85.967896</td>\n",
       "      <td>85.907760</td>\n",
       "      <td>85.846270</td>\n",
       "      <td>85.783420</td>\n",
       "      <td>85.719185</td>\n",
       "      <td>85.653550</td>\n",
       "      <td>85.586490</td>\n",
       "    </tr>\n",
       "    <tr>\n",
       "      <th>3734</th>\n",
       "      <td>68.581700</td>\n",
       "      <td>68.667410</td>\n",
       "      <td>68.751930</td>\n",
       "      <td>68.835300</td>\n",
       "      <td>68.917550</td>\n",
       "      <td>68.998700</td>\n",
       "      <td>69.078804</td>\n",
       "      <td>69.157860</td>\n",
       "      <td>69.235910</td>\n",
       "      <td>69.312970</td>\n",
       "      <td>...</td>\n",
       "      <td>86.173540</td>\n",
       "      <td>86.116910</td>\n",
       "      <td>86.058990</td>\n",
       "      <td>85.999750</td>\n",
       "      <td>85.939170</td>\n",
       "      <td>85.877250</td>\n",
       "      <td>85.813965</td>\n",
       "      <td>85.749306</td>\n",
       "      <td>85.683240</td>\n",
       "      <td>85.615760</td>\n",
       "    </tr>\n",
       "  </tbody>\n",
       "</table>\n",
       "<p>3735 rows × 450 columns</p>\n",
       "</div>"
      ],
      "text/plain": [
       "              1          2          3          4          5          6  \\\n",
       "0    -80.200420 -80.245056 -80.288475 -80.330710 -80.371796 -80.411766   \n",
       "1    -80.244020 -80.288820 -80.332390 -80.374780 -80.416016 -80.456130   \n",
       "2    -80.287530 -80.332480 -80.376220 -80.418760 -80.460150 -80.500410   \n",
       "3    -80.331154 -80.376274 -80.420166 -80.462860 -80.504400 -80.544810   \n",
       "4    -80.374750 -80.420030 -80.464080 -80.506935 -80.548620 -80.589180   \n",
       "...         ...        ...        ...        ...        ...        ...   \n",
       "3730  68.534836  68.620540  68.705055  68.788420  68.870674  68.951830   \n",
       "3731  68.546640  68.632340  68.716866  68.800230  68.882484  68.963640   \n",
       "3732  68.558365  68.644070  68.728600  68.811966  68.894220  68.975380   \n",
       "3733  68.570100  68.655800  68.740326  68.823690  68.905945  68.987110   \n",
       "3734  68.581700  68.667410  68.751930  68.835300  68.917550  68.998700   \n",
       "\n",
       "              7          8          9         10  ...        441        442  \\\n",
       "0    -80.450645 -80.488464 -80.525250 -80.561035  ... -67.670870 -67.596790   \n",
       "1    -80.495155 -80.533110 -80.570040 -80.605950  ... -67.691140 -67.617010   \n",
       "2    -80.539580 -80.577680 -80.614746 -80.650795  ... -67.711400 -67.637230   \n",
       "3    -80.584120 -80.622360 -80.659560 -80.695740  ... -67.731450 -67.657250   \n",
       "4    -80.628640 -80.667015 -80.704350 -80.740670  ... -67.751380 -67.677124   \n",
       "...         ...        ...        ...        ...  ...        ...        ...   \n",
       "3730  69.031920  69.110980  69.189026  69.266090  ...  86.038930  85.984080   \n",
       "3731  69.043740  69.122795  69.200840  69.277910  ...  86.073074  86.017780   \n",
       "3732  69.055470  69.134540  69.212585  69.289650  ...  86.106890  86.051155   \n",
       "3733  69.067200  69.146260  69.224310  69.301380  ...  86.140360  86.084180   \n",
       "3734  69.078804  69.157860  69.235910  69.312970  ...  86.173540  86.116910   \n",
       "\n",
       "            443        444        445        446        447        448  \\\n",
       "0    -67.521750 -67.445740 -67.368720 -67.290670 -67.211570 -67.131390   \n",
       "1    -67.541940 -67.465880 -67.388820 -67.310730 -67.231580 -67.151350   \n",
       "2    -67.562110 -67.486015 -67.408910 -67.330780 -67.251595 -67.171320   \n",
       "3    -67.582085 -67.505940 -67.428795 -67.350620 -67.271385 -67.191070   \n",
       "4    -67.601920 -67.525734 -67.448550 -67.370320 -67.291050 -67.210686   \n",
       "...         ...        ...        ...        ...        ...        ...   \n",
       "3730  85.927900  85.870410  85.811560  85.751366  85.689800  85.626830   \n",
       "3731  85.961174  85.903244  85.843970  85.783350  85.721350  85.657970   \n",
       "3732  85.994120  85.935750  85.876045  85.814995  85.752570  85.688760   \n",
       "3733  86.026695  85.967896  85.907760  85.846270  85.783420  85.719185   \n",
       "3734  86.058990  85.999750  85.939170  85.877250  85.813965  85.749306   \n",
       "\n",
       "            449        450  \n",
       "0    -67.050095 -66.967650  \n",
       "1    -67.070015 -66.987526  \n",
       "2    -67.089935 -67.007410  \n",
       "3    -67.109640 -67.027070  \n",
       "4    -67.129210 -67.046590  \n",
       "...         ...        ...  \n",
       "3730  85.562460  85.496660  \n",
       "3731  85.593180  85.526955  \n",
       "3732  85.623550  85.556915  \n",
       "3733  85.653550  85.586490  \n",
       "3734  85.683240  85.615760  \n",
       "\n",
       "[3735 rows x 450 columns]"
      ]
     },
     "execution_count": 61,
     "metadata": {},
     "output_type": "execute_result"
    }
   ],
   "source": [
    "latitude"
   ]
  },
  {
   "cell_type": "code",
   "execution_count": null,
   "id": "9c535bef-51c4-4c55-bd63-71eb96e324ba",
   "metadata": {},
   "outputs": [],
   "source": [
    "#model training\n",
    "#given time location\n",
    "fatures1=get_hyperstructure\n",
    "features_2=get_map\n",
    "features=[1pm 2pm 3pm 4pm ]\n",
    "output=no2 at given time"
   ]
  },
  {
   "cell_type": "code",
   "execution_count": 275,
   "id": "3e4467c2-d87b-4616-bb83-2a07b3f10246",
   "metadata": {},
   "outputs": [],
   "source": [
    "#Time series\n",
    "London_Bexley=(51.462900, 0.139400)\n",
    "df=pd.read_csv('data1/timeseries/51.462900_ 0.139400.csv')"
   ]
  },
  {
   "cell_type": "code",
   "execution_count": 276,
   "id": "52054593-0ee2-4b05-ba24-81aa30656ec7",
   "metadata": {},
   "outputs": [],
   "source": [
    "df=df.dropna()"
   ]
  },
  {
   "cell_type": "code",
   "execution_count": 277,
   "id": "9613b591-0ceb-49bd-8b00-3088c29310c6",
   "metadata": {},
   "outputs": [],
   "source": [
    "df['date']=df['Date']+' '+df['Time']"
   ]
  },
  {
   "cell_type": "code",
   "execution_count": 278,
   "id": "85280d63-0e4b-4d5a-aa57-ad9edd6a9ab4",
   "metadata": {},
   "outputs": [],
   "source": [
    "from datetime import datetime\n",
    "df['date'] = df['date'].apply(lambda x: datetime.strptime(x, '%d/%m/%Y %H:%M:%S'))"
   ]
  },
  {
   "cell_type": "code",
   "execution_count": 84,
   "id": "fd982aff-6879-4472-b645-2fb173d30764",
   "metadata": {},
   "outputs": [],
   "source": [
    "def convert_date(date_string):\n",
    "    convert_date=datetime.strptime(date_string, '%B %d %Y %H:%M%p')\n",
    "    convert_date=convert_date.strftime('%d/%m/%Y %H:%M:%S')\n",
    "    convert_date=datetime.strptime(convert_date, '%d/%m/%Y %H:%M:%S')\n",
    "    return convert_date"
   ]
  },
  {
   "cell_type": "code",
   "execution_count": 279,
   "id": "2b51cbf7-6880-4772-a3ca-75f8de83a042",
   "metadata": {},
   "outputs": [],
   "source": [
    "#given_date=%B %d %Y %H:%M%p\n",
    "given_date='March 25 2021 11:00AM'\n",
    "convert_date=datetime.strptime(given_date, '%B %d %Y %H:%M%p')\n",
    "convert_date=convert_date.strftime('%d/%m/%Y %H:%M:%S')"
   ]
  },
  {
   "cell_type": "code",
   "execution_count": 271,
   "id": "e2a50856-829d-408a-a9af-92aa9c5ce78a",
   "metadata": {},
   "outputs": [
    {
     "data": {
      "text/plain": [
       "'25/03/2021 11:00:00'"
      ]
     },
     "execution_count": 271,
     "metadata": {},
     "output_type": "execute_result"
    }
   ],
   "source": [
    "convert_date"
   ]
  },
  {
   "cell_type": "code",
   "execution_count": 289,
   "id": "cc5c4e07-84ac-4e31-8b5d-80512db719b4",
   "metadata": {},
   "outputs": [],
   "source": [
    "#given coordinates and date and time, extract time series and dependent variable\n",
    "import os\n",
    "arr = os.listdir('data1/timeseries')"
   ]
  },
  {
   "cell_type": "code",
   "execution_count": 290,
   "id": "30643a65-0e65-42e0-825a-b65635a6a739",
   "metadata": {},
   "outputs": [
    {
     "data": {
      "text/plain": [
       "['51.462900_0.139400.csv',\n",
       " '51.522918_-0.130821.csv',\n",
       " '51.526213_-0.461329.csv']"
      ]
     },
     "execution_count": 290,
     "metadata": {},
     "output_type": "execute_result"
    }
   ],
   "source": [
    "\n",
    "arr"
   ]
  },
  {
   "cell_type": "code",
   "execution_count": 306,
   "id": "6efb3c53-8c1d-401e-827f-f1a1ad029b31",
   "metadata": {},
   "outputs": [],
   "source": [
    "import geopy.distance\n",
    "lat_1=51.522918\n",
    "\n",
    "lon_1=-0.130821\n",
    "coord_1=(lat_1,lon_1)\n",
    "#distgeopy.distance.distance(coords_1, coords_2).km\n",
    "\n",
    "dist=10000\n",
    "for i in arr:\n",
    "    coord_2=(float(i.split('_')[0]),i.split('_')[1].split('.csv')[0])\n",
    "    #print(coord_2)\n",
    "    distance=geopy.distance.distance(coord_1, coord_2).km\n",
    "    #print(distance)\n",
    "    if distance <dist:\n",
    "        dist=distance\n",
    "        coord_pointer=i\n"
   ]
  },
  {
   "cell_type": "code",
   "execution_count": 307,
   "id": "2a98becd-338b-4ef5-9099-b1b6a0f5fe38",
   "metadata": {},
   "outputs": [
    {
     "data": {
      "text/plain": [
       "'51.522918_-0.130821.csv'"
      ]
     },
     "execution_count": 307,
     "metadata": {},
     "output_type": "execute_result"
    }
   ],
   "source": [
    "coord_pointer"
   ]
  },
  {
   "cell_type": "code",
   "execution_count": 313,
   "id": "b4ef2b75-86c4-47b9-9813-828e4dd30823",
   "metadata": {},
   "outputs": [],
   "source": [
    "df =pd.read_csv('data1/timeseries/'+coord_pointer)\n",
    "df=df.dropna()\n",
    "df['date']=df['Date']+' '+df['Time']\n",
    "from datetime import datetime\n",
    "df['date'] = df['date'].apply(lambda x: datetime.strptime(x, '%d/%m/%Y %H:%M:%S'))"
   ]
  },
  {
   "cell_type": "code",
   "execution_count": 347,
   "id": "0a66802d-cfb7-49ff-8b53-4d8cbe9a6dd7",
   "metadata": {},
   "outputs": [],
   "source": [
    "given_time= 'March 26 2021 11:00AM'\n",
    "time=convert_date(given_time)"
   ]
  },
  {
   "cell_type": "code",
   "execution_count": 330,
   "id": "25a9ba96-2878-4cc3-a1a3-c7541d4c0eb1",
   "metadata": {},
   "outputs": [],
   "source": [
    "y= float(df[df.date == time]['Nitrogen dioxide'])"
   ]
  },
  {
   "cell_type": "code",
   "execution_count": 350,
   "id": "bbe2252e-b60b-4926-9aaa-0ce7ac05ed96",
   "metadata": {},
   "outputs": [
    {
     "data": {
      "text/plain": [
       "datetime.datetime(2021, 3, 19, 11, 0)"
      ]
     },
     "execution_count": 350,
     "metadata": {},
     "output_type": "execute_result"
    }
   ],
   "source": [
    "hours = 168\n",
    "from datetime import datetime, timedelta\n",
    "from dateutil.relativedelta import relativedelta\n",
    "hours_added = timedelta(hours = -hours)\n",
    "time_past=time + hours_added\n",
    "#future_date_and_time = current_date_and_time + hours_added\n",
    "time_past"
   ]
  },
  {
   "cell_type": "code",
   "execution_count": 385,
   "id": "b02b9918-554c-4089-8871-2eac8e463fe0",
   "metadata": {},
   "outputs": [],
   "source": [
    "#df['Nitrogen dioxide']=df['Nitrogen dioxide'].apply(lambda x: str(x))\n",
    "#df['Nitrogen dioxide']=df['Nitrogen dioxide'].apply(lambda x: float(x))\n",
    "import statistics\n",
    "\n",
    "x= df[df['date'] < time]#['Nitrogen dioxide']\n",
    "x=x[x['date'] >= time_past]['Nitrogen dioxide']\n",
    "#x=x.apply(lambda y:float(y))\n",
    "x=list(x)\n",
    "X=[]\n",
    "for i in x:\n",
    "    try:\n",
    "        X.append(float(i))\n",
    "    except ValueError:\n",
    "        X.append(statistics.mean(X))"
   ]
  },
  {
   "cell_type": "code",
   "execution_count": null,
   "id": "4a8db3c6-22c2-4b33-98ec-5fb0133afd0b",
   "metadata": {},
   "outputs": [],
   "source": [
    "#TRaining time series"
   ]
  },
  {
   "cell_type": "code",
   "execution_count": 121,
   "id": "fa00ebc9-15c4-4071-8d9e-6404dd72b7c4",
   "metadata": {},
   "outputs": [],
   "source": [
    "import pandas as pd\n",
    "df =pd.read_csv('data1/timeseries/'+'51.522918_-0.130821.csv')\n",
    "df=df.dropna()\n",
    "df['date']=df['Date']+' '+df['Time']\n",
    "from datetime import datetime\n",
    "df['date'] = df['date'].apply(lambda x: datetime.strptime(x, '%d/%m/%Y %H:%M:%S'))"
   ]
  },
  {
   "cell_type": "code",
   "execution_count": 122,
   "id": "baa6465b-a129-4d33-a293-3831e3ae508a",
   "metadata": {},
   "outputs": [],
   "source": [
    "time_ran=['AM','PM']\n",
    "month_ran=['March','April']\n",
    "day_ran=list(range(8,30))\n",
    "time1_ran=list(range(1,12))\n"
   ]
  },
  {
   "cell_type": "code",
   "execution_count": 123,
   "id": "f14ade0e-47e4-4dd6-a156-f362f954a9b0",
   "metadata": {},
   "outputs": [],
   "source": [
    "import random\n",
    "import statistics\n",
    "from datetime import datetime, timedelta\n",
    "from dateutil.relativedelta import relativedelta\n",
    "given_time= random.choice(month_ran)+ ' '  + str(random.choice(day_ran))+ ' ' + '2021' + ' ' + str(random.choice(time1_ran)) +':'+'00'+random.choice(time_ran)"
   ]
  },
  {
   "cell_type": "code",
   "execution_count": 143,
   "id": "32ce064a-8e61-428a-bdd0-1642abe06396",
   "metadata": {},
   "outputs": [
    {
     "name": "stdout",
     "output_type": "stream",
     "text": [
      "Lowered zoom level to keep map size reasonable. (z = 12)\n"
     ]
    },
    {
     "data": {
      "text/plain": [
       "(60, 60, 3)"
      ]
     },
     "execution_count": 143,
     "metadata": {},
     "output_type": "execute_result"
    }
   ],
   "source": [
    "import pandas as pd\n",
    "df =pd.read_csv('data1/timeseries/'+'51.462900_0.139400.csv')\n",
    "df=df.dropna()\n",
    "df['date']=df['Date']+' '+df['Time']\n",
    "from datetime import datetime\n",
    "df['date'] = df['date'].apply(lambda x: datetime.strptime(x, '%d/%m/%Y %H:%M:%S'))\n",
    "import smopy\n",
    "import cv2\n",
    "\n",
    "lat=51.462900\n",
    "lon=0.139400\n",
    "LatMin=lat-0.1\n",
    "LatMax=lat+0.1\n",
    "LngMin=lon-0.1\n",
    "LngMax=lon+0.1\n",
    "map = smopy.Map((LatMin,LngMin, LatMax,LngMax))\n",
    "name=str(lat)+'_'+str(lon)+'.png'\n",
    "map.save_png(name)\n",
    "img = cv2.imread(name)\n",
    "resized_image = cv2.resize(img, (60, 60)) \n",
    "resized_image.shape\n"
   ]
  },
  {
   "cell_type": "code",
   "execution_count": 144,
   "id": "2ee6c6a9-14d4-4148-9647-8dddaddf1939",
   "metadata": {},
   "outputs": [
    {
     "data": {
      "text/plain": [
       "[0.64097416, 0.6000305, 5.68e-05, -0.89386904]"
      ]
     },
     "execution_count": 144,
     "metadata": {},
     "output_type": "execute_result"
    }
   ],
   "source": [
    "\n",
    "def get_span_grid(latitude,longitude):\n",
    "    distance_between={}\n",
    "    a=latitude\n",
    "    b=longitude\n",
    "    for i in coord_local.columns:\n",
    "        for j in coord_local.index:\n",
    "            coords_1=(a,b)\n",
    "            try:\n",
    "                coords_2=(float(coord_local[i][j].split(',')[0]),float(coord_local[i][j].split(',')[1]))\n",
    "                dist_calc=geopy.distance.distance(coords_1, coords_2).km\n",
    "                #print(dist_calc)\n",
    "                distance_between[float(dist_calc)]=(i,j)\n",
    "            except AttributeError:\n",
    "                continue\n",
    "    \n",
    "    grid,span=distance_between[min(distance_between.keys())]\n",
    "    return grid,span\n",
    "def get_hyper_Spectral_features(lat,lon):\n",
    "    ground_pixel,span_line=get_span_grid(lat,lon)\n",
    "    feature1=air_mass_factor_troposphere.iloc[span_line][ground_pixel]\n",
    "    feature2=cloud_radiance_fraction_nitrogendioxide_window.iloc[span_line][ground_pixel]\n",
    "    feature3=nitrogendioxide_tropospheric_column.iloc[span_line][ground_pixel]\n",
    "    feature4=water_liquid_slant_column_density.iloc[span_line][ground_pixel]\n",
    "    hyper_spectral_features=[feature1,feature2,feature3,feature4]\n",
    "    return hyper_spectral_features\n",
    "spec_features=get_hyper_Spectral_features(lat,lon)\n",
    "spec_features"
   ]
  },
  {
   "cell_type": "code",
   "execution_count": 145,
   "id": "6b01705e-2c89-4674-ac6f-1b721e2d9a2d",
   "metadata": {},
   "outputs": [],
   "source": [
    "#x_array=[]\n",
    "#y_array=[]\n",
    "#x_time=[]\n",
    "#x_hyper=[]\n",
    "#x_map=[]\n",
    "for i in range(800):\n",
    "    x_map.append(resized_image)\n",
    "    x_hyper.append(spec_features)\n",
    "    temp=0\n",
    "    given_time= random.choice(month_ran)+ ' '  + str(random.choice(day_ran))+ ' ' + '2021' + ' ' + str(random.choice(time1_ran)) +':'+'00'+random.choice(time_ran)\n",
    "    time=convert_date(given_time)\n",
    "    try:\n",
    "        y= float(df[df.date == time]['Nitrogen dioxide'])\n",
    "    except ValueError:\n",
    "        y =0\n",
    "    \n",
    "    hours = 168\n",
    "    hours_added = timedelta(hours = -hours)\n",
    "    time_past=time + hours_added\n",
    "    #future_date_and_time = current_date_and_time + hours_added\n",
    "    time_past\n",
    "    x= df[df['date'] < time]#['Nitrogen dioxide']\n",
    "    x=x[x['date'] >= time_past]['Nitrogen dioxide']\n",
    "    x=list(x)\n",
    "    X=[]\n",
    "    for i in x:\n",
    "        try:\n",
    "            X.append(float(i))\n",
    "        except ValueError:\n",
    "            X.append(0)\n",
    "            temp=X.copy()\n",
    "    y_array.append(y)\n",
    "    x_array.append(X)"
   ]
  },
  {
   "cell_type": "code",
   "execution_count": 148,
   "id": "a440529c-7cc2-4ee1-a3c3-a06758419663",
   "metadata": {},
   "outputs": [
    {
     "data": {
      "text/plain": [
       "0"
      ]
     },
     "execution_count": 148,
     "metadata": {},
     "output_type": "execute_result"
    }
   ],
   "source": [
    "len(x_time)"
   ]
  },
  {
   "cell_type": "markdown",
   "id": "8622cc67-9a59-4845-ab76-20c359eca0aa",
   "metadata": {},
   "source": [
    "# Model Training"
   ]
  },
  {
   "cell_type": "code",
   "execution_count": 198,
   "id": "4fdb480a-df4b-4771-a0c3-1d73361dc826",
   "metadata": {},
   "outputs": [],
   "source": [
    "#model1\n",
    "from tensorflow.keras.layers import Dense, Dropout, Input,concatenate\n",
    "from tensorflow.keras.layers import Conv2D, MaxPooling2D, Flatten\n",
    "#from keras.optimizers import SGD\n",
    "from tensorflow.keras.models import Model\n",
    "input1=Input(shape=(60, 60, 3))\n",
    "y1=Conv2D(32, (3, 3), activation='relu', input_shape=(60, 60, 3))(input1)\n",
    "y2= MaxPooling2D()(y1)\n",
    "y3=Conv2D(64, (3, 3), activation='relu')(y2)\n",
    "y4= Flatten()(y3)\n",
    "output1=Dense(10, activation=\"relu\")(y4)\n",
    "\n",
    "#model2\n",
    "input2=Input(shape=(168,))\n",
    "z1=Dense(5, activation=\"relu\")(input2)\n",
    "#model3\n",
    "input3=Input(shape=(4,))\n",
    "x=Dense(1, activation=\"relu\")(input3)\n",
    "\n",
    "merge = concatenate([output1, z1,x])\n",
    "out=Dense(1, activation=\"relu\")(merge)\n",
    "\n",
    "model=Model(inputs=[input1,input2,input3],outputs=[out])\n",
    "opt = tf.keras.optimizers.Adam(learning_rate=0.001)\n",
    "model.compile(optimizer=opt, loss='mean_absolute_error')\n",
    "\n"
   ]
  },
  {
   "cell_type": "code",
   "execution_count": 158,
   "id": "394fa86c-9b9f-43d7-8acc-3d5f7befeb93",
   "metadata": {},
   "outputs": [],
   "source": [
    "x_array_np=np.array(x_array)\n",
    "y_array_np=np.array(y_array)\n",
    "x_hyper_np=np.array(x_hyper)\n",
    "x_map_np=np.array(x_map)\n"
   ]
  },
  {
   "cell_type": "code",
   "execution_count": 160,
   "id": "74c225ba-8d39-48aa-b4f4-149e1e07c039",
   "metadata": {},
   "outputs": [
    {
     "data": {
      "text/plain": [
       "(2400, 168)"
      ]
     },
     "execution_count": 160,
     "metadata": {},
     "output_type": "execute_result"
    }
   ],
   "source": [
    "x_array_np.shape"
   ]
  },
  {
   "cell_type": "code",
   "execution_count": 199,
   "id": "329d8c01-272f-4cf9-94f4-7d499fb945a1",
   "metadata": {},
   "outputs": [
    {
     "name": "stdout",
     "output_type": "stream",
     "text": [
      "75/75 [==============================] - 10s 129ms/step - loss: 16.6681\n"
     ]
    },
    {
     "data": {
      "text/plain": [
       "<tensorflow.python.keras.callbacks.History at 0x27c90571670>"
      ]
     },
     "execution_count": 199,
     "metadata": {},
     "output_type": "execute_result"
    }
   ],
   "source": [
    "model.fit([x_map_np,x_array_np,x_hyper_np],y_array_np)"
   ]
  },
  {
   "cell_type": "code",
   "execution_count": 164,
   "id": "513881fc-039c-4602-8a74-4a83b7a475ed",
   "metadata": {},
   "outputs": [],
   "source": [
    "tf.config.run_functions_eagerly(True)"
   ]
  },
  {
   "cell_type": "code",
   "execution_count": 169,
   "id": "90ad6c03-8eea-40e7-85e2-c903b36c9f1e",
   "metadata": {},
   "outputs": [
    {
     "ename": "TypeError",
     "evalue": "array() takes from 1 to 2 positional arguments but 3 were given",
     "output_type": "error",
     "traceback": [
      "\u001b[1;31m---------------------------------------------------------------------------\u001b[0m",
      "\u001b[1;31mTypeError\u001b[0m                                 Traceback (most recent call last)",
      "\u001b[1;32m<ipython-input-169-4e0b6f8e988b>\u001b[0m in \u001b[0;36m<module>\u001b[1;34m\u001b[0m\n\u001b[1;32m----> 1\u001b[1;33m \u001b[0mf\u001b[0m\u001b[1;33m=\u001b[0m\u001b[0mnp\u001b[0m\u001b[1;33m.\u001b[0m\u001b[0marray\u001b[0m\u001b[1;33m(\u001b[0m\u001b[0mx_map_np\u001b[0m\u001b[1;33m[\u001b[0m\u001b[1;36m0\u001b[0m\u001b[1;33m]\u001b[0m\u001b[1;33m,\u001b[0m\u001b[0mx_array_np\u001b[0m\u001b[1;33m[\u001b[0m\u001b[1;36m0\u001b[0m\u001b[1;33m]\u001b[0m\u001b[1;33m,\u001b[0m\u001b[0mx_hyper_np\u001b[0m\u001b[1;33m[\u001b[0m\u001b[1;36m0\u001b[0m\u001b[1;33m]\u001b[0m\u001b[1;33m)\u001b[0m\u001b[1;33m\u001b[0m\u001b[1;33m\u001b[0m\u001b[0m\n\u001b[0m",
      "\u001b[1;31mTypeError\u001b[0m: array() takes from 1 to 2 positional arguments but 3 were given"
     ]
    }
   ],
   "source": [
    "f=np.array(np.array(x_map_np[0]),x_array_np[0],x_hyper_np[0])"
   ]
  },
  {
   "cell_type": "code",
   "execution_count": 201,
   "id": "7e7a865c-70f5-4767-a7e1-81b0cfe4699d",
   "metadata": {},
   "outputs": [
    {
     "data": {
      "text/plain": [
       "(15, 4)"
      ]
     },
     "execution_count": 201,
     "metadata": {},
     "output_type": "execute_result"
    }
   ],
   "source": [
    "a=np.array(x_map[0:15])\n",
    "b=np.array(x_array[0:15])\n",
    "c=np.array(x_hyper[0:15])\n",
    "#np.array(x_map[0]),np.array(x_array[0]),np.array(x_hyper[0])\n",
    "c.shape"
   ]
  },
  {
   "cell_type": "code",
   "execution_count": 206,
   "id": "10310b89-6b7c-4b15-b90d-6b46892d6ba9",
   "metadata": {},
   "outputs": [
    {
     "data": {
      "text/plain": [
       "(1, 60, 60, 3)"
      ]
     },
     "execution_count": 206,
     "metadata": {},
     "output_type": "execute_result"
    }
   ],
   "source": [
    "a=np.array(x_map[15])\n",
    "a_n=a[ np.newaxis, :]\n",
    "a_n.shape"
   ]
  },
  {
   "cell_type": "code",
   "execution_count": 202,
   "id": "247c5224-85c5-4e46-a638-e60cfd42e8a7",
   "metadata": {},
   "outputs": [],
   "source": [
    "g=model.predict([a,b,c])"
   ]
  },
  {
   "cell_type": "code",
   "execution_count": 227,
   "id": "eaafe38c-2669-4051-98fd-2b1ffbfb969c",
   "metadata": {},
   "outputs": [],
   "source": [
    "coord_local.to_excel('get_geographical_data.xlsx')"
   ]
  },
  {
   "cell_type": "markdown",
   "id": "a2fe4492-8e9e-43ee-a061-b2b09aadee74",
   "metadata": {},
   "source": [
    "# Model prediction"
   ]
  },
  {
   "cell_type": "code",
   "execution_count": 215,
   "id": "6a1f11f7-abfe-465f-b011-b19fd80491e1",
   "metadata": {},
   "outputs": [
    {
     "name": "stdout",
     "output_type": "stream",
     "text": [
      "Lowered zoom level to keep map size reasonable. (z = 11)\n"
     ]
    },
    {
     "name": "stderr",
     "output_type": "stream",
     "text": [
      "C:\\Users\\Hamzah\\AppData\\Roaming\\Python\\Python38\\site-packages\\tensorflow\\python\\data\\ops\\dataset_ops.py:3703: UserWarning: Even though the `tf.config.experimental_run_functions_eagerly` option is set, this option does not apply to tf.data functions. To force eager execution of tf.data functions, please use `tf.data.experimental.enable.debug_mode()`.\n",
      "  warnings.warn(\n"
     ]
    }
   ],
   "source": [
    "input_latitude=51.472830\n",
    "input_longitude=-0.013733\n",
    "input_time='March 11 2021 11:00AM'\n",
    "hyper_spec_features=get_hyper_Spectral_features(input_latitude,input_longitude)\n",
    "hyper_spec_features=np.array(hyper_spec_features)\n",
    "hyper_spec_features=hyper_spec_features[ np.newaxis, :]\n",
    "\n",
    "import pandas as pd\n",
    "\n",
    "\n",
    "import geopy.distance\n",
    "lat_1=51.522918\n",
    "\n",
    "lon_1=-0.130821\n",
    "coord_1=(lat_1,lon_1)\n",
    "#distgeopy.distance.distance(coords_1, coords_2).km\n",
    "def get_coord_pointer(lat,lon):\n",
    "    coord_1=(lat,lon)\n",
    "    array_coord = os.listdir('data1/timeseries')\n",
    "    dist=10000\n",
    "    for i in array_coord:\n",
    "        coord_2=(float(i.split('_')[0]),i.split('_')[1].split('.csv')[0])\n",
    "        distance=geopy.distance.distance(coord_1, coord_2).km\n",
    "        if distance <dist:\n",
    "            dist=distance\n",
    "            coord_pointer=i\n",
    "            \n",
    "    return coord_pointer\n",
    "\n",
    "\n",
    "df =pd.read_csv('data1/timeseries/'+get_coord_pointer(input_latitude,input_longitude))\n",
    "df=df.dropna()\n",
    "df['date']=df['Date']+' '+df['Time']\n",
    "from datetime import datetime\n",
    "df['date'] = df['date'].apply(lambda x: datetime.strptime(x, '%d/%m/%Y %H:%M:%S'))\n",
    "\n",
    "time=convert_date(input_time)\n",
    "\n",
    "hours = 168\n",
    "hours_added = timedelta(hours = -hours)\n",
    "time_past=time + hours_added\n",
    "time_past\n",
    "x= df[df['date'] < time]#['Nitrogen dioxide']\n",
    "x=x[x['date'] >= time_past]['Nitrogen dioxide']\n",
    "x=list(x)\n",
    "X=[]\n",
    "for i in x:\n",
    "    try:\n",
    "        X.append(float(i))\n",
    "    except ValueError:\n",
    "         X.append(0)\n",
    "time_features=X\n",
    "time_features=np.array(time_features)\n",
    "time_features=time_features[ np.newaxis, :]\n",
    "\n",
    "LatMin=input_latitude-0.1\n",
    "LatMax=input_latitude+0.1\n",
    "LngMin=input_longitude-0.1\n",
    "LngMax=input_longitude+0.1\n",
    "map = smopy.Map((LatMin,LngMin, LatMax,LngMax))\n",
    "name=str(input_latitude)+'_'+str(input_longitude)+'.png'\n",
    "map.save_png(name)\n",
    "img = cv2.imread(name)\n",
    "resized_image = cv2.resize(img, (60, 60)) \n",
    "resized_image.shape\n",
    "\n",
    "map_features=np.array(resized_image)\n",
    "map_features=map_features[ np.newaxis, :]\n",
    "\n",
    "prediction=model.predict([map_features,time_features,hyper_spec_features])\n",
    "result=float(prediction)"
   ]
  },
  {
   "cell_type": "code",
   "execution_count": null,
   "id": "7c4c21c2-b273-461e-b6d8-4f19ca58e6be",
   "metadata": {},
   "outputs": [],
   "source": [
    "import pandas as pd\n",
    "import geopy.distance\n"
   ]
  },
  {
   "cell_type": "markdown",
   "id": "a981fa97-7a46-4846-b56d-07429ddef968",
   "metadata": {},
   "source": [
    "## Importanct functions"
   ]
  },
  {
   "cell_type": "code",
   "execution_count": 224,
   "id": "e157f921-a63f-4de6-951e-2e2332192535",
   "metadata": {},
   "outputs": [
    {
     "name": "stdout",
     "output_type": "stream",
     "text": [
      "INFO:tensorflow:Assets written to: my_model\\assets\n"
     ]
    }
   ],
   "source": [
    "def get_coord_pointer(lat,lon):\n",
    "    coord_1=(lat,lon)\n",
    "    array_coord = os.listdir('data1/timeseries')\n",
    "    dist=10000\n",
    "    for i in array_coord:\n",
    "        coord_2=(float(i.split('_')[0]),i.split('_')[1].split('.csv')[0])\n",
    "        distance=geopy.distance.distance(coord_1, coord_2).km\n",
    "        if distance <dist:\n",
    "            dist=distance\n",
    "            coord_pointer=i\n",
    "            \n",
    "    return coord_pointe\n",
    "\n",
    "\n",
    "model.save('my_model')"
   ]
  },
  {
   "cell_type": "markdown",
   "id": "198db3e6-50c2-4dd6-9808-027e779fa15a",
   "metadata": {},
   "source": [
    "# Predictiion"
   ]
  },
  {
   "cell_type": "markdown",
   "id": "8513bc51-34cb-44c5-bf80-bc5664c862de",
   "metadata": {},
   "source": [
    "### Input formats in model"
   ]
  },
  {
   "cell_type": "markdown",
   "id": "bfb31461-5873-4368-bfdf-39ecfc529ebc",
   "metadata": {},
   "source": [
    "- Input latitude in float format\n",
    "- Input longitude in float format\n",
    "- Input time in following format '21 March 2021 12:00AM'\n",
    "\n"
   ]
  },
  {
   "cell_type": "markdown",
   "id": "3d2648ff-2798-450e-a0d7-d730cc066a57",
   "metadata": {},
   "source": [
    "### prediction=predict_NO2(latitude,longitude,time)\n",
    "## Example\n",
    "`prediction=predict_NO2(51.472830, -0.013733,'March 21 2021 12:00AM')`\n",
    "\n",
    "#### Note: Enter date between 9th March 2021 to 30th April 2022 (due to limitation of data given in challenge). It takes last 7 days data as time series input"
   ]
  },
  {
   "cell_type": "markdown",
   "id": "baad7d5f-dc0c-4c23-83ec-e838f9e4ad0d",
   "metadata": {},
   "source": [
    "### Load model weight"
   ]
  },
  {
   "cell_type": "code",
   "execution_count": 221,
   "id": "38ac5b18-ea19-4c9f-9993-1126f72e3729",
   "metadata": {},
   "outputs": [],
   "source": [
    "def predict_NO2(input_latitude,input_longitude,input_time):\n",
    "    hyper_spec_features=get_hyper_Spectral_features(input_latitude,input_longitude)\n",
    "    hyper_spec_features=np.array(hyper_spec_features)\n",
    "    hyper_spec_features=hyper_spec_features[ np.newaxis, :]\n",
    "\n",
    "    df =pd.read_csv('data1/timeseries/'+get_coord_pointer(input_latitude,input_longitude))\n",
    "    df=df.dropna()\n",
    "    df['date']=df['Date']+' '+df['Time']\n",
    "    from datetime import datetime\n",
    "    df['date'] = df['date'].apply(lambda x: datetime.strptime(x, '%d/%m/%Y %H:%M:%S'))\n",
    "\n",
    "    time=convert_date(input_time)\n",
    "\n",
    "    hours = 168\n",
    "    hours_added = timedelta(hours = -hours)\n",
    "    time_past=time + hours_added\n",
    "    time_past\n",
    "    x= df[df['date'] < time]#['Nitrogen dioxide']\n",
    "    x=x[x['date'] >= time_past]['Nitrogen dioxide']\n",
    "    x=list(x)\n",
    "    X=[]\n",
    "    for i in x:\n",
    "        try:\n",
    "            X.append(float(i))\n",
    "        except ValueError:\n",
    "             X.append(0)\n",
    "    time_features=X\n",
    "    time_features=np.array(time_features)\n",
    "    time_features=time_features[ np.newaxis, :]\n",
    "\n",
    "    LatMin=input_latitude-0.1\n",
    "    LatMax=input_latitude+0.1\n",
    "    LngMin=input_longitude-0.1\n",
    "    LngMax=input_longitude+0.1\n",
    "    map = smopy.Map((LatMin,LngMin, LatMax,LngMax))\n",
    "    name=str(input_latitude)+'_'+str(input_longitude)+'.png'\n",
    "    map.save_png(name)\n",
    "    img = cv2.imread(name)\n",
    "    resized_image = cv2.resize(img, (60, 60)) \n",
    "    resized_image.shape\n",
    "\n",
    "    map_features=np.array(resized_image)\n",
    "    map_features=map_features[ np.newaxis, :]\n",
    "\n",
    "    prediction=model.predict([map_features,time_features,hyper_spec_features])\n",
    "    result=float(prediction)\n",
    "    return result"
   ]
  },
  {
   "cell_type": "code",
   "execution_count": 223,
   "id": "a8eae47b-0257-4a36-826b-0858fb581d08",
   "metadata": {},
   "outputs": [
    {
     "name": "stdout",
     "output_type": "stream",
     "text": [
      "Lowered zoom level to keep map size reasonable. (z = 11)\n"
     ]
    },
    {
     "name": "stderr",
     "output_type": "stream",
     "text": [
      "C:\\Users\\Hamzah\\AppData\\Roaming\\Python\\Python38\\site-packages\\tensorflow\\python\\data\\ops\\dataset_ops.py:3703: UserWarning: Even though the `tf.config.experimental_run_functions_eagerly` option is set, this option does not apply to tf.data functions. To force eager execution of tf.data functions, please use `tf.data.experimental.enable.debug_mode()`.\n",
      "  warnings.warn(\n"
     ]
    }
   ],
   "source": [
    "prediction=predict_NO2(51.472830, -0.013733,'March 21 2021 12:00AM')"
   ]
  },
  {
   "cell_type": "markdown",
   "id": "95b6a92a-bfef-4c5c-8b0c-8e9886057d71",
   "metadata": {},
   "source": [
    "### Load model from saved folder"
   ]
  },
  {
   "cell_type": "code",
   "execution_count": 216,
   "id": "34998bb6-b2d7-46eb-b7ec-5eeaf8baf474",
   "metadata": {},
   "outputs": [
    {
     "data": {
      "text/plain": [
       "23.333389282226562"
      ]
     },
     "execution_count": 216,
     "metadata": {},
     "output_type": "execute_result"
    }
   ],
   "source": []
  },
  {
   "cell_type": "code",
   "execution_count": null,
   "id": "99468328-b12b-4923-a7b0-3cbf6c48d2e0",
   "metadata": {},
   "outputs": [],
   "source": [
    "def predict"
   ]
  }
 ],
 "metadata": {
  "kernelspec": {
   "display_name": "Python 3",
   "language": "python",
   "name": "python3"
  },
  "language_info": {
   "codemirror_mode": {
    "name": "ipython",
    "version": 3
   },
   "file_extension": ".py",
   "mimetype": "text/x-python",
   "name": "python",
   "nbconvert_exporter": "python",
   "pygments_lexer": "ipython3",
   "version": "3.8.8"
  }
 },
 "nbformat": 4,
 "nbformat_minor": 5
}
